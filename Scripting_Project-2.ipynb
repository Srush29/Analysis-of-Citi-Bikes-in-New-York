{
  "cells": [
    {
      "cell_type": "markdown",
      "metadata": {
        "id": "bmhrWz1W0_DE"
      },
      "source": [
        "IST 652 : Scripting for Data Analysis\n",
        "\n",
        "Analysis of NYC Citi Bike data"
      ]
    },
    {
      "cell_type": "code",
      "execution_count": null,
      "metadata": {
        "id": "HQ0q6BrR1MlQ",
        "outputId": "bd68b1a9-f79a-4415-c338-7a9fef362425"
      },
      "outputs": [
        {
          "name": "stdout",
          "output_type": "stream",
          "text": [
            "Requirement already satisfied: matplotlib in /Library/Frameworks/Python.framework/Versions/3.10/lib/python3.10/site-packages (3.6.2)\n",
            "Requirement already satisfied: fonttools>=4.22.0 in /Library/Frameworks/Python.framework/Versions/3.10/lib/python3.10/site-packages (from matplotlib) (4.38.0)\n",
            "Requirement already satisfied: pyparsing>=2.2.1 in /Library/Frameworks/Python.framework/Versions/3.10/lib/python3.10/site-packages (from matplotlib) (3.0.9)\n",
            "Requirement already satisfied: numpy>=1.19 in /Library/Frameworks/Python.framework/Versions/3.10/lib/python3.10/site-packages (from matplotlib) (1.23.3)\n",
            "Requirement already satisfied: kiwisolver>=1.0.1 in /Library/Frameworks/Python.framework/Versions/3.10/lib/python3.10/site-packages (from matplotlib) (1.4.4)\n",
            "Requirement already satisfied: pillow>=6.2.0 in /Library/Frameworks/Python.framework/Versions/3.10/lib/python3.10/site-packages (from matplotlib) (9.3.0)\n",
            "Requirement already satisfied: contourpy>=1.0.1 in /Library/Frameworks/Python.framework/Versions/3.10/lib/python3.10/site-packages (from matplotlib) (1.0.6)\n",
            "Requirement already satisfied: cycler>=0.10 in /Library/Frameworks/Python.framework/Versions/3.10/lib/python3.10/site-packages (from matplotlib) (0.11.0)\n",
            "Requirement already satisfied: packaging>=20.0 in /Library/Frameworks/Python.framework/Versions/3.10/lib/python3.10/site-packages (from matplotlib) (21.3)\n",
            "Requirement already satisfied: python-dateutil>=2.7 in /Library/Frameworks/Python.framework/Versions/3.10/lib/python3.10/site-packages (from matplotlib) (2.8.2)\n",
            "Requirement already satisfied: six>=1.5 in /Library/Frameworks/Python.framework/Versions/3.10/lib/python3.10/site-packages (from python-dateutil>=2.7->matplotlib) (1.16.0)\n",
            "\n",
            "\u001b[1m[\u001b[0m\u001b[34;49mnotice\u001b[0m\u001b[1;39;49m]\u001b[0m\u001b[39;49m A new release of pip available: \u001b[0m\u001b[31;49m22.2.2\u001b[0m\u001b[39;49m -> \u001b[0m\u001b[32;49m22.3.1\u001b[0m\n",
            "\u001b[1m[\u001b[0m\u001b[34;49mnotice\u001b[0m\u001b[1;39;49m]\u001b[0m\u001b[39;49m To update, run: \u001b[0m\u001b[32;49mpip3 install --upgrade pip\u001b[0m\n",
            "Note: you may need to restart the kernel to use updated packages.\n"
          ]
        }
      ],
      "source": [
        "#pip install matplotlib"
      ]
    },
    {
      "cell_type": "code",
      "execution_count": null,
      "metadata": {
        "id": "4C67d7y-1MlR",
        "outputId": "84b21e8c-ce91-4789-a52a-cf9df4d6c23e"
      },
      "outputs": [
        {
          "name": "stdout",
          "output_type": "stream",
          "text": [
            "Collecting seaborn\n",
            "  Downloading seaborn-0.12.1-py3-none-any.whl (288 kB)\n",
            "\u001b[2K     \u001b[90m━━━━━━━━━━━━━━━━━━━━━━━━━━━━━━━━━━━━━━━\u001b[0m \u001b[32m288.2/288.2 kB\u001b[0m \u001b[31m6.4 MB/s\u001b[0m eta \u001b[36m0:00:00\u001b[0m00:01\u001b[0m\n",
            "\u001b[?25hRequirement already satisfied: numpy>=1.17 in /Library/Frameworks/Python.framework/Versions/3.10/lib/python3.10/site-packages (from seaborn) (1.23.3)\n",
            "Requirement already satisfied: matplotlib!=3.6.1,>=3.1 in /Library/Frameworks/Python.framework/Versions/3.10/lib/python3.10/site-packages (from seaborn) (3.6.2)\n",
            "Requirement already satisfied: pandas>=0.25 in /Library/Frameworks/Python.framework/Versions/3.10/lib/python3.10/site-packages (from seaborn) (1.5.0)\n",
            "Requirement already satisfied: contourpy>=1.0.1 in /Library/Frameworks/Python.framework/Versions/3.10/lib/python3.10/site-packages (from matplotlib!=3.6.1,>=3.1->seaborn) (1.0.6)\n",
            "Requirement already satisfied: cycler>=0.10 in /Library/Frameworks/Python.framework/Versions/3.10/lib/python3.10/site-packages (from matplotlib!=3.6.1,>=3.1->seaborn) (0.11.0)\n",
            "Requirement already satisfied: packaging>=20.0 in /Library/Frameworks/Python.framework/Versions/3.10/lib/python3.10/site-packages (from matplotlib!=3.6.1,>=3.1->seaborn) (21.3)\n",
            "Requirement already satisfied: kiwisolver>=1.0.1 in /Library/Frameworks/Python.framework/Versions/3.10/lib/python3.10/site-packages (from matplotlib!=3.6.1,>=3.1->seaborn) (1.4.4)\n",
            "Requirement already satisfied: pyparsing>=2.2.1 in /Library/Frameworks/Python.framework/Versions/3.10/lib/python3.10/site-packages (from matplotlib!=3.6.1,>=3.1->seaborn) (3.0.9)\n",
            "Requirement already satisfied: python-dateutil>=2.7 in /Library/Frameworks/Python.framework/Versions/3.10/lib/python3.10/site-packages (from matplotlib!=3.6.1,>=3.1->seaborn) (2.8.2)\n",
            "Requirement already satisfied: pillow>=6.2.0 in /Library/Frameworks/Python.framework/Versions/3.10/lib/python3.10/site-packages (from matplotlib!=3.6.1,>=3.1->seaborn) (9.3.0)\n",
            "Requirement already satisfied: fonttools>=4.22.0 in /Library/Frameworks/Python.framework/Versions/3.10/lib/python3.10/site-packages (from matplotlib!=3.6.1,>=3.1->seaborn) (4.38.0)\n",
            "Requirement already satisfied: pytz>=2020.1 in /Library/Frameworks/Python.framework/Versions/3.10/lib/python3.10/site-packages (from pandas>=0.25->seaborn) (2022.4)\n",
            "Requirement already satisfied: six>=1.5 in /Library/Frameworks/Python.framework/Versions/3.10/lib/python3.10/site-packages (from python-dateutil>=2.7->matplotlib!=3.6.1,>=3.1->seaborn) (1.16.0)\n",
            "Installing collected packages: seaborn\n",
            "Successfully installed seaborn-0.12.1\n",
            "\n",
            "\u001b[1m[\u001b[0m\u001b[34;49mnotice\u001b[0m\u001b[1;39;49m]\u001b[0m\u001b[39;49m A new release of pip available: \u001b[0m\u001b[31;49m22.2.2\u001b[0m\u001b[39;49m -> \u001b[0m\u001b[32;49m22.3.1\u001b[0m\n",
            "\u001b[1m[\u001b[0m\u001b[34;49mnotice\u001b[0m\u001b[1;39;49m]\u001b[0m\u001b[39;49m To update, run: \u001b[0m\u001b[32;49mpip3 install --upgrade pip\u001b[0m\n",
            "Note: you may need to restart the kernel to use updated packages.\n"
          ]
        }
      ],
      "source": [
        "#pip install seaborn"
      ]
    },
    {
      "cell_type": "code",
      "execution_count": null,
      "metadata": {
        "id": "VLrnhSgi1MlS"
      },
      "outputs": [],
      "source": [
        "# Importing the required libraries\n",
        "\n",
        "import pandas as pd\n",
        "import matplotlib.pyplot as plt\n",
        "import seaborn as sns"
      ]
    },
    {
      "cell_type": "code",
      "execution_count": null,
      "metadata": {
        "colab": {
          "base_uri": "https://localhost:8080/",
          "height": 125
        },
        "id": "gborSs5uamxS",
        "outputId": "69c3f93a-d01a-4655-d697-884699f6eddc"
      },
      "outputs": [
        {
          "data": {
            "text/plain": [
              "\"df = pd.read_csv('/content/202202-citibike-tripdata.csv')\\ndf1 = pd.read_csv('/content/202203-citbike-tripdata.csv')\\ndf2 = pd.read_csv('/content/202204-citibike-tripdata.csv')\\ndf3 = pd.read_csv('/content/202205-citibike-tripdata.csv')\\ndf4 = pd.read_csv('/content/202206-citibike-tripdata.csv')\\ndf5 = pd.read_csv('/content/202207-citbike-tripdata.csv')\\ndf6 = pd.read_csv('/content/202208-citibike-tripdata.csv')\\ndf7 = pd.read_csv('/content/202209-citibike-tripdata.csv')\\ndf8 = pd.read_csv('/content/citibikedata_2022')\\n\\ndf = df.sample(frac=0.2)\\ndf1 = df1.sample(frac=0.2)\\ndf2 = df2.sample(frac=0.2)\\ndf3 = df3.sample(frac=0.2)\\ndf4 = df4.sample(frac=0.1)\\ndf5 = df5.sample(frac=0.1)\\ndf6 = df6.sample(frac=0.1)\\ndf7 = df7.sample(frac=0.1)\\n\\nframes = [df, df1, df2, df3, df4, df5, df6, df7, df8]\\nfinal_df = pd.concat(frames)\\nlen(final_df.index)\\nfinal_df.to_csv('/content/citibikedata_2022',index=False)\""
            ]
          },
          "execution_count": 19,
          "metadata": {},
          "output_type": "execute_result"
        }
      ],
      "source": [
        "# Creating a dataframe df8 by combining all the dataframes created by extracting data from months \n",
        "# February to September 2022\n",
        "\n",
        "'''df = pd.read_csv('/content/202202-citibike-tripdata.csv')\n",
        "df1 = pd.read_csv('/content/202203-citbike-tripdata.csv')\n",
        "df2 = pd.read_csv('/content/202204-citibike-tripdata.csv')\n",
        "df3 = pd.read_csv('/content/202205-citibike-tripdata.csv')\n",
        "df4 = pd.read_csv('/content/202206-citibike-tripdata.csv')\n",
        "df5 = pd.read_csv('/content/202207-citbike-tripdata.csv')\n",
        "df6 = pd.read_csv('/content/202208-citibike-tripdata.csv')\n",
        "df7 = pd.read_csv('/content/202209-citibike-tripdata.csv')\n",
        "df8 = pd.read_csv('/content/citibikedata_2022')\n",
        "\n",
        "# Sampling each of the dataframe by 0.2 to reduce the size of each dataframe and reduce the number of rows\n",
        "\n",
        "df = df.sample(frac=0.2)\n",
        "df1 = df1.sample(frac=0.2)\n",
        "df2 = df2.sample(frac=0.2)\n",
        "df3 = df3.sample(frac=0.2)\n",
        "df4 = df4.sample(frac=0.1)\n",
        "df5 = df5.sample(frac=0.1)\n",
        "df6 = df6.sample(frac=0.1)\n",
        "df7 = df7.sample(frac=0.1)\n",
        "\n",
        "frames = [df, df1, df2, df3, df4, df5, df6, df7, df8]\n",
        "final_df = pd.concat(frames)\n",
        "len(final_df.index)\n",
        "final_df.to_csv('/content/citibikedata_2022',index=False)'''"
      ]
    },
    {
      "cell_type": "code",
      "execution_count": null,
      "metadata": {
        "id": "dJJInDqcS0pu"
      },
      "outputs": [],
      "source": [
        "# From google.colab import drive\n",
        "# drive.mount('/content/drive')"
      ]
    },
    {
      "cell_type": "code",
      "execution_count": null,
      "metadata": {
        "id": "wpLSUt0X4xkz"
      },
      "outputs": [],
      "source": [
        "# data = pd.read_csv('/content/drive/MyDrive/citibikedata_2022')"
      ]
    },
    {
      "cell_type": "code",
      "execution_count": null,
      "metadata": {
        "id": "oPdqsMYT6SxR"
      },
      "outputs": [],
      "source": [
        "# data.info()"
      ]
    },
    {
      "cell_type": "code",
      "execution_count": null,
      "metadata": {
        "id": "Yw8hZGX06SUI"
      },
      "outputs": [],
      "source": [
        "# rows = data.sample(frac =.25)"
      ]
    },
    {
      "cell_type": "code",
      "execution_count": null,
      "metadata": {
        "id": "PLRs3asZ60Xj"
      },
      "outputs": [],
      "source": [
        "# rows.head()"
      ]
    },
    {
      "cell_type": "code",
      "execution_count": null,
      "metadata": {
        "id": "yOTteex962SW"
      },
      "outputs": [],
      "source": [
        "# rows.info()"
      ]
    },
    {
      "cell_type": "code",
      "execution_count": null,
      "metadata": {
        "id": "ZodRz6uu7h1K"
      },
      "outputs": [],
      "source": [
        "# rows.reset_index().to_csv('New_Scripting_Data.csv')"
      ]
    },
    {
      "cell_type": "code",
      "execution_count": null,
      "metadata": {
        "id": "WtdDZ0b7UQVJ"
      },
      "outputs": [],
      "source": [
        "# bike_data = pd.read_csv('/content/drive/MyDrive/New_Scripting_Data.csv')\n",
        "\n",
        "#bike_data = pd.read_csv(\"~/datasets/ist652/Fall2022/Team11/New_Scripting_Data.zip\")"
      ]
    },
    {
      "cell_type": "code",
      "execution_count": null,
      "metadata": {
        "colab": {
          "base_uri": "https://localhost:8080/",
          "height": 461
        },
        "id": "2alHHCgk9vwF",
        "outputId": "143dda53-b067-4e6b-9875-fddf3efdfad3"
      },
      "outputs": [
        {
          "data": {
            "text/html": [
              "<div>\n",
              "<style scoped>\n",
              "    .dataframe tbody tr th:only-of-type {\n",
              "        vertical-align: middle;\n",
              "    }\n",
              "\n",
              "    .dataframe tbody tr th {\n",
              "        vertical-align: top;\n",
              "    }\n",
              "\n",
              "    .dataframe thead th {\n",
              "        text-align: right;\n",
              "    }\n",
              "</style>\n",
              "<table border=\"1\" class=\"dataframe\">\n",
              "  <thead>\n",
              "    <tr style=\"text-align: right;\">\n",
              "      <th></th>\n",
              "      <th>Unnamed: 0</th>\n",
              "      <th>index</th>\n",
              "      <th>ride_id</th>\n",
              "      <th>rideable_type</th>\n",
              "      <th>started_at</th>\n",
              "      <th>ended_at</th>\n",
              "      <th>start_station_name</th>\n",
              "      <th>start_station_id</th>\n",
              "      <th>end_station_name</th>\n",
              "      <th>end_station_id</th>\n",
              "      <th>start_lat</th>\n",
              "      <th>start_lng</th>\n",
              "      <th>end_lat</th>\n",
              "      <th>end_lng</th>\n",
              "      <th>member_casual</th>\n",
              "    </tr>\n",
              "  </thead>\n",
              "  <tbody>\n",
              "    <tr>\n",
              "      <th>0</th>\n",
              "      <td>0</td>\n",
              "      <td>3368994</td>\n",
              "      <td>4A44EC47BA9EB4A6</td>\n",
              "      <td>electric_bike</td>\n",
              "      <td>2022-02-24 12:54:12</td>\n",
              "      <td>2022-02-24 13:07:14</td>\n",
              "      <td>W 63 St &amp; Broadway</td>\n",
              "      <td>7052.01</td>\n",
              "      <td>E 58 St &amp; 1 Ave (NE Corner)</td>\n",
              "      <td>6682.03</td>\n",
              "      <td>40.771639</td>\n",
              "      <td>-73.982614</td>\n",
              "      <td>40.758924</td>\n",
              "      <td>-73.962262</td>\n",
              "      <td>member</td>\n",
              "    </tr>\n",
              "    <tr>\n",
              "      <th>1</th>\n",
              "      <td>1</td>\n",
              "      <td>660250</td>\n",
              "      <td>C717D1B99BDC6990</td>\n",
              "      <td>electric_bike</td>\n",
              "      <td>2022-09-14 22:57:02</td>\n",
              "      <td>2022-09-14 23:01:37</td>\n",
              "      <td>53 St &amp; 4 Ave</td>\n",
              "      <td>3169.07</td>\n",
              "      <td>57 St &amp; 1 Ave</td>\n",
              "      <td>3178.02</td>\n",
              "      <td>40.644862</td>\n",
              "      <td>-74.014531</td>\n",
              "      <td>40.646377</td>\n",
              "      <td>-74.023087</td>\n",
              "      <td>casual</td>\n",
              "    </tr>\n",
              "    <tr>\n",
              "      <th>2</th>\n",
              "      <td>2</td>\n",
              "      <td>1954835</td>\n",
              "      <td>DCD0CD602279B1D3</td>\n",
              "      <td>classic_bike</td>\n",
              "      <td>2022-08-10 08:35:40</td>\n",
              "      <td>2022-08-10 08:51:37</td>\n",
              "      <td>Bond St &amp; Fulton St</td>\n",
              "      <td>4479.06</td>\n",
              "      <td>LaGuardia Pl &amp; W 3 St</td>\n",
              "      <td>5721.14</td>\n",
              "      <td>40.689541</td>\n",
              "      <td>-73.983084</td>\n",
              "      <td>40.729170</td>\n",
              "      <td>-73.998102</td>\n",
              "      <td>member</td>\n",
              "    </tr>\n",
              "    <tr>\n",
              "      <th>3</th>\n",
              "      <td>3</td>\n",
              "      <td>4441319</td>\n",
              "      <td>62A602C908B3DE1E</td>\n",
              "      <td>electric_bike</td>\n",
              "      <td>2022-05-11 15:50:21</td>\n",
              "      <td>2022-05-11 16:08:24</td>\n",
              "      <td>W 113 St &amp; Broadway</td>\n",
              "      <td>7713.01</td>\n",
              "      <td>Central Park West &amp; W 68 St</td>\n",
              "      <td>7079.06</td>\n",
              "      <td>40.805973</td>\n",
              "      <td>-73.964928</td>\n",
              "      <td>40.773407</td>\n",
              "      <td>-73.977825</td>\n",
              "      <td>member</td>\n",
              "    </tr>\n",
              "    <tr>\n",
              "      <th>4</th>\n",
              "      <td>4</td>\n",
              "      <td>4342835</td>\n",
              "      <td>FB7CC314A32B4200</td>\n",
              "      <td>electric_bike</td>\n",
              "      <td>2022-05-15 13:00:28</td>\n",
              "      <td>2022-05-15 13:04:03</td>\n",
              "      <td>E 84 St &amp; 1 Ave</td>\n",
              "      <td>7180.02</td>\n",
              "      <td>1 Ave &amp; E 78 St</td>\n",
              "      <td>7020.09</td>\n",
              "      <td>40.775655</td>\n",
              "      <td>-73.950686</td>\n",
              "      <td>40.771404</td>\n",
              "      <td>-73.953517</td>\n",
              "      <td>member</td>\n",
              "    </tr>\n",
              "  </tbody>\n",
              "</table>\n",
              "</div>"
            ],
            "text/plain": [
              "   Unnamed: 0    index           ride_id  rideable_type           started_at  \\\n",
              "0           0  3368994  4A44EC47BA9EB4A6  electric_bike  2022-02-24 12:54:12   \n",
              "1           1   660250  C717D1B99BDC6990  electric_bike  2022-09-14 22:57:02   \n",
              "2           2  1954835  DCD0CD602279B1D3   classic_bike  2022-08-10 08:35:40   \n",
              "3           3  4441319  62A602C908B3DE1E  electric_bike  2022-05-11 15:50:21   \n",
              "4           4  4342835  FB7CC314A32B4200  electric_bike  2022-05-15 13:00:28   \n",
              "\n",
              "              ended_at   start_station_name start_station_id  \\\n",
              "0  2022-02-24 13:07:14   W 63 St & Broadway          7052.01   \n",
              "1  2022-09-14 23:01:37        53 St & 4 Ave          3169.07   \n",
              "2  2022-08-10 08:51:37  Bond St & Fulton St          4479.06   \n",
              "3  2022-05-11 16:08:24  W 113 St & Broadway          7713.01   \n",
              "4  2022-05-15 13:04:03      E 84 St & 1 Ave          7180.02   \n",
              "\n",
              "              end_station_name end_station_id  start_lat  start_lng  \\\n",
              "0  E 58 St & 1 Ave (NE Corner)        6682.03  40.771639 -73.982614   \n",
              "1                57 St & 1 Ave        3178.02  40.644862 -74.014531   \n",
              "2        LaGuardia Pl & W 3 St        5721.14  40.689541 -73.983084   \n",
              "3  Central Park West & W 68 St        7079.06  40.805973 -73.964928   \n",
              "4              1 Ave & E 78 St        7020.09  40.775655 -73.950686   \n",
              "\n",
              "     end_lat    end_lng member_casual  \n",
              "0  40.758924 -73.962262        member  \n",
              "1  40.646377 -74.023087        casual  \n",
              "2  40.729170 -73.998102        member  \n",
              "3  40.773407 -73.977825        member  \n",
              "4  40.771404 -73.953517        member  "
            ]
          },
          "execution_count": 11,
          "metadata": {},
          "output_type": "execute_result"
        }
      ],
      "source": [
        "#bike_data.head()"
      ]
    },
    {
      "cell_type": "code",
      "execution_count": null,
      "metadata": {
        "colab": {
          "base_uri": "https://localhost:8080/"
        },
        "id": "5GalyauX-rnl",
        "outputId": "af13256d-4d57-4f2e-c02a-23bcb83c414c"
      },
      "outputs": [
        {
          "data": {
            "text/plain": [
              "Unnamed: 0               0\n",
              "index                    0\n",
              "ride_id                  0\n",
              "rideable_type            0\n",
              "started_at               0\n",
              "ended_at                 0\n",
              "start_station_name       0\n",
              "start_station_id         0\n",
              "end_station_name      2258\n",
              "end_station_id        2258\n",
              "start_lat                0\n",
              "start_lng                0\n",
              "end_lat               1259\n",
              "end_lng               1259\n",
              "member_casual            0\n",
              "dtype: int64"
            ]
          },
          "execution_count": 12,
          "metadata": {},
          "output_type": "execute_result"
        }
      ],
      "source": [
        "bike_data.isnull().sum()"
      ]
    },
    {
      "cell_type": "code",
      "execution_count": null,
      "metadata": {
        "id": "YHGR3wdiBLFd"
      },
      "outputs": [],
      "source": [
        "bike_data = bike_data.dropna()"
      ]
    },
    {
      "cell_type": "code",
      "execution_count": null,
      "metadata": {
        "colab": {
          "base_uri": "https://localhost:8080/"
        },
        "id": "FSXm-VXyBPhD",
        "outputId": "e94b483e-bbb0-43da-cfe7-582e7201b188"
      },
      "outputs": [
        {
          "name": "stdout",
          "output_type": "stream",
          "text": [
            "<class 'pandas.core.frame.DataFrame'>\n",
            "Int64Index: 1123046 entries, 0 to 1125303\n",
            "Data columns (total 15 columns):\n",
            " #   Column              Non-Null Count    Dtype  \n",
            "---  ------              --------------    -----  \n",
            " 0   Unnamed: 0          1123046 non-null  int64  \n",
            " 1   index               1123046 non-null  int64  \n",
            " 2   ride_id             1123046 non-null  object \n",
            " 3   rideable_type       1123046 non-null  object \n",
            " 4   started_at          1123046 non-null  object \n",
            " 5   ended_at            1123046 non-null  object \n",
            " 6   start_station_name  1123046 non-null  object \n",
            " 7   start_station_id    1123046 non-null  object \n",
            " 8   end_station_name    1123046 non-null  object \n",
            " 9   end_station_id      1123046 non-null  object \n",
            " 10  start_lat           1123046 non-null  float64\n",
            " 11  start_lng           1123046 non-null  float64\n",
            " 12  end_lat             1123046 non-null  float64\n",
            " 13  end_lng             1123046 non-null  float64\n",
            " 14  member_casual       1123046 non-null  object \n",
            "dtypes: float64(4), int64(2), object(9)\n",
            "memory usage: 137.1+ MB\n"
          ]
        }
      ],
      "source": [
        "bike_data.info()\n",
        "\n",
        "# 2258 values have been dropped, the ones which do not have an end location/ station/ id"
      ]
    },
    {
      "cell_type": "code",
      "execution_count": null,
      "metadata": {
        "id": "lEsbronjaHr-"
      },
      "outputs": [],
      "source": [
        "bike_data = bike_data.drop_duplicates() # No duplicates were found"
      ]
    },
    {
      "cell_type": "code",
      "execution_count": null,
      "metadata": {
        "colab": {
          "base_uri": "https://localhost:8080/"
        },
        "id": "nQeONJXTaR1t",
        "outputId": "7d7475db-ba26-4e47-e000-d291529818ab"
      },
      "outputs": [
        {
          "name": "stdout",
          "output_type": "stream",
          "text": [
            "<class 'pandas.core.frame.DataFrame'>\n",
            "Int64Index: 1123046 entries, 0 to 1125303\n",
            "Data columns (total 15 columns):\n",
            " #   Column              Non-Null Count    Dtype  \n",
            "---  ------              --------------    -----  \n",
            " 0   Unnamed: 0          1123046 non-null  int64  \n",
            " 1   index               1123046 non-null  int64  \n",
            " 2   ride_id             1123046 non-null  object \n",
            " 3   rideable_type       1123046 non-null  object \n",
            " 4   started_at          1123046 non-null  object \n",
            " 5   ended_at            1123046 non-null  object \n",
            " 6   start_station_name  1123046 non-null  object \n",
            " 7   start_station_id    1123046 non-null  object \n",
            " 8   end_station_name    1123046 non-null  object \n",
            " 9   end_station_id      1123046 non-null  object \n",
            " 10  start_lat           1123046 non-null  float64\n",
            " 11  start_lng           1123046 non-null  float64\n",
            " 12  end_lat             1123046 non-null  float64\n",
            " 13  end_lng             1123046 non-null  float64\n",
            " 14  member_casual       1123046 non-null  object \n",
            "dtypes: float64(4), int64(2), object(9)\n",
            "memory usage: 137.1+ MB\n"
          ]
        }
      ],
      "source": [
        "bike_data.info()"
      ]
    },
    {
      "cell_type": "code",
      "execution_count": null,
      "metadata": {
        "id": "gwck2Z4JbcEb"
      },
      "outputs": [],
      "source": [
        "try:\n",
        "  del bike_data[\"Unnamed: 0\"]\n",
        "except:\n",
        "  print('Could not find column Unnamed: 0')"
      ]
    },
    {
      "cell_type": "code",
      "execution_count": null,
      "metadata": {
        "colab": {
          "base_uri": "https://localhost:8080/",
          "height": 835
        },
        "id": "eH5G-9RgbIkR",
        "outputId": "9581548d-c3d1-4b5f-ce0c-0ab3c601e5b7"
      },
      "outputs": [
        {
          "data": {
            "text/html": [
              "<div>\n",
              "<style scoped>\n",
              "    .dataframe tbody tr th:only-of-type {\n",
              "        vertical-align: middle;\n",
              "    }\n",
              "\n",
              "    .dataframe tbody tr th {\n",
              "        vertical-align: top;\n",
              "    }\n",
              "\n",
              "    .dataframe thead th {\n",
              "        text-align: right;\n",
              "    }\n",
              "</style>\n",
              "<table border=\"1\" class=\"dataframe\">\n",
              "  <thead>\n",
              "    <tr style=\"text-align: right;\">\n",
              "      <th></th>\n",
              "      <th>index</th>\n",
              "      <th>ride_id</th>\n",
              "      <th>rideable_type</th>\n",
              "      <th>started_at</th>\n",
              "      <th>ended_at</th>\n",
              "      <th>start_station_name</th>\n",
              "      <th>start_station_id</th>\n",
              "      <th>end_station_name</th>\n",
              "      <th>end_station_id</th>\n",
              "      <th>start_lat</th>\n",
              "      <th>start_lng</th>\n",
              "      <th>end_lat</th>\n",
              "      <th>end_lng</th>\n",
              "      <th>member_casual</th>\n",
              "    </tr>\n",
              "  </thead>\n",
              "  <tbody>\n",
              "    <tr>\n",
              "      <th>0</th>\n",
              "      <td>3368994</td>\n",
              "      <td>4A44EC47BA9EB4A6</td>\n",
              "      <td>electric_bike</td>\n",
              "      <td>2022-02-24 12:54:12</td>\n",
              "      <td>2022-02-24 13:07:14</td>\n",
              "      <td>W 63 St &amp; Broadway</td>\n",
              "      <td>7052.01</td>\n",
              "      <td>E 58 St &amp; 1 Ave (NE Corner)</td>\n",
              "      <td>6682.03</td>\n",
              "      <td>40.771639</td>\n",
              "      <td>-73.982614</td>\n",
              "      <td>40.758924</td>\n",
              "      <td>-73.962262</td>\n",
              "      <td>member</td>\n",
              "    </tr>\n",
              "    <tr>\n",
              "      <th>1</th>\n",
              "      <td>660250</td>\n",
              "      <td>C717D1B99BDC6990</td>\n",
              "      <td>electric_bike</td>\n",
              "      <td>2022-09-14 22:57:02</td>\n",
              "      <td>2022-09-14 23:01:37</td>\n",
              "      <td>53 St &amp; 4 Ave</td>\n",
              "      <td>3169.07</td>\n",
              "      <td>57 St &amp; 1 Ave</td>\n",
              "      <td>3178.02</td>\n",
              "      <td>40.644862</td>\n",
              "      <td>-74.014531</td>\n",
              "      <td>40.646377</td>\n",
              "      <td>-74.023087</td>\n",
              "      <td>casual</td>\n",
              "    </tr>\n",
              "    <tr>\n",
              "      <th>2</th>\n",
              "      <td>1954835</td>\n",
              "      <td>DCD0CD602279B1D3</td>\n",
              "      <td>classic_bike</td>\n",
              "      <td>2022-08-10 08:35:40</td>\n",
              "      <td>2022-08-10 08:51:37</td>\n",
              "      <td>Bond St &amp; Fulton St</td>\n",
              "      <td>4479.06</td>\n",
              "      <td>LaGuardia Pl &amp; W 3 St</td>\n",
              "      <td>5721.14</td>\n",
              "      <td>40.689541</td>\n",
              "      <td>-73.983084</td>\n",
              "      <td>40.729170</td>\n",
              "      <td>-73.998102</td>\n",
              "      <td>member</td>\n",
              "    </tr>\n",
              "    <tr>\n",
              "      <th>3</th>\n",
              "      <td>4441319</td>\n",
              "      <td>62A602C908B3DE1E</td>\n",
              "      <td>electric_bike</td>\n",
              "      <td>2022-05-11 15:50:21</td>\n",
              "      <td>2022-05-11 16:08:24</td>\n",
              "      <td>W 113 St &amp; Broadway</td>\n",
              "      <td>7713.01</td>\n",
              "      <td>Central Park West &amp; W 68 St</td>\n",
              "      <td>7079.06</td>\n",
              "      <td>40.805973</td>\n",
              "      <td>-73.964928</td>\n",
              "      <td>40.773407</td>\n",
              "      <td>-73.977825</td>\n",
              "      <td>member</td>\n",
              "    </tr>\n",
              "    <tr>\n",
              "      <th>4</th>\n",
              "      <td>4342835</td>\n",
              "      <td>FB7CC314A32B4200</td>\n",
              "      <td>electric_bike</td>\n",
              "      <td>2022-05-15 13:00:28</td>\n",
              "      <td>2022-05-15 13:04:03</td>\n",
              "      <td>E 84 St &amp; 1 Ave</td>\n",
              "      <td>7180.02</td>\n",
              "      <td>1 Ave &amp; E 78 St</td>\n",
              "      <td>7020.09</td>\n",
              "      <td>40.775655</td>\n",
              "      <td>-73.950686</td>\n",
              "      <td>40.771404</td>\n",
              "      <td>-73.953517</td>\n",
              "      <td>member</td>\n",
              "    </tr>\n",
              "    <tr>\n",
              "      <th>...</th>\n",
              "      <td>...</td>\n",
              "      <td>...</td>\n",
              "      <td>...</td>\n",
              "      <td>...</td>\n",
              "      <td>...</td>\n",
              "      <td>...</td>\n",
              "      <td>...</td>\n",
              "      <td>...</td>\n",
              "      <td>...</td>\n",
              "      <td>...</td>\n",
              "      <td>...</td>\n",
              "      <td>...</td>\n",
              "      <td>...</td>\n",
              "      <td>...</td>\n",
              "    </tr>\n",
              "    <tr>\n",
              "      <th>1125299</th>\n",
              "      <td>1747028</td>\n",
              "      <td>9E990BD43E0EC3B5</td>\n",
              "      <td>electric_bike</td>\n",
              "      <td>2022-08-07 13:35:44</td>\n",
              "      <td>2022-08-07 13:36:04</td>\n",
              "      <td>E 9 St &amp; 5 Ave</td>\n",
              "      <td>5872.1</td>\n",
              "      <td>E 9 St &amp; 5 Ave</td>\n",
              "      <td>5872.10</td>\n",
              "      <td>40.732759</td>\n",
              "      <td>-73.995817</td>\n",
              "      <td>40.732759</td>\n",
              "      <td>-73.995817</td>\n",
              "      <td>casual</td>\n",
              "    </tr>\n",
              "    <tr>\n",
              "      <th>1125300</th>\n",
              "      <td>843657</td>\n",
              "      <td>A0FD7115FC78067F</td>\n",
              "      <td>classic_bike</td>\n",
              "      <td>2022-07-26 19:00:22</td>\n",
              "      <td>2022-07-26 19:11:44</td>\n",
              "      <td>Clinton St &amp; Cherry St</td>\n",
              "      <td>5190.09</td>\n",
              "      <td>Market St &amp; Henry St</td>\n",
              "      <td>5270.09</td>\n",
              "      <td>40.711471</td>\n",
              "      <td>-73.986726</td>\n",
              "      <td>40.713107</td>\n",
              "      <td>-73.994464</td>\n",
              "      <td>member</td>\n",
              "    </tr>\n",
              "    <tr>\n",
              "      <th>1125301</th>\n",
              "      <td>759519</td>\n",
              "      <td>034AC20640B1E0B2</td>\n",
              "      <td>electric_bike</td>\n",
              "      <td>2022-07-08 22:08:18</td>\n",
              "      <td>2022-07-08 22:12:11</td>\n",
              "      <td>Southern Blvd &amp; Tiffany St</td>\n",
              "      <td>7867.04</td>\n",
              "      <td>Longfellow Ave &amp; E 165 St</td>\n",
              "      <td>7983.04</td>\n",
              "      <td>40.818185</td>\n",
              "      <td>-73.894143</td>\n",
              "      <td>40.825322</td>\n",
              "      <td>-73.887729</td>\n",
              "      <td>member</td>\n",
              "    </tr>\n",
              "    <tr>\n",
              "      <th>1125302</th>\n",
              "      <td>1538418</td>\n",
              "      <td>FC763FC70AE2040D</td>\n",
              "      <td>classic_bike</td>\n",
              "      <td>2022-08-16 08:05:42</td>\n",
              "      <td>2022-08-16 08:08:47</td>\n",
              "      <td>N 15 St &amp; Wythe Ave</td>\n",
              "      <td>5520.09</td>\n",
              "      <td>Huron St &amp; Franklin St</td>\n",
              "      <td>5869.04</td>\n",
              "      <td>40.724112</td>\n",
              "      <td>-73.955865</td>\n",
              "      <td>40.732660</td>\n",
              "      <td>-73.958260</td>\n",
              "      <td>member</td>\n",
              "    </tr>\n",
              "    <tr>\n",
              "      <th>1125303</th>\n",
              "      <td>1260144</td>\n",
              "      <td>463F320E6F58BDED</td>\n",
              "      <td>electric_bike</td>\n",
              "      <td>2022-07-25 16:03:06</td>\n",
              "      <td>2022-07-25 16:11:24</td>\n",
              "      <td>Parade Pl &amp; Crooke Ave</td>\n",
              "      <td>3376.02</td>\n",
              "      <td>Prospect Park SW &amp; 10 Ave</td>\n",
              "      <td>3611.02</td>\n",
              "      <td>40.651847</td>\n",
              "      <td>-73.965248</td>\n",
              "      <td>40.659945</td>\n",
              "      <td>-73.977504</td>\n",
              "      <td>member</td>\n",
              "    </tr>\n",
              "  </tbody>\n",
              "</table>\n",
              "<p>1123046 rows × 14 columns</p>\n",
              "</div>"
            ],
            "text/plain": [
              "           index           ride_id  rideable_type           started_at  \\\n",
              "0        3368994  4A44EC47BA9EB4A6  electric_bike  2022-02-24 12:54:12   \n",
              "1         660250  C717D1B99BDC6990  electric_bike  2022-09-14 22:57:02   \n",
              "2        1954835  DCD0CD602279B1D3   classic_bike  2022-08-10 08:35:40   \n",
              "3        4441319  62A602C908B3DE1E  electric_bike  2022-05-11 15:50:21   \n",
              "4        4342835  FB7CC314A32B4200  electric_bike  2022-05-15 13:00:28   \n",
              "...          ...               ...            ...                  ...   \n",
              "1125299  1747028  9E990BD43E0EC3B5  electric_bike  2022-08-07 13:35:44   \n",
              "1125300   843657  A0FD7115FC78067F   classic_bike  2022-07-26 19:00:22   \n",
              "1125301   759519  034AC20640B1E0B2  electric_bike  2022-07-08 22:08:18   \n",
              "1125302  1538418  FC763FC70AE2040D   classic_bike  2022-08-16 08:05:42   \n",
              "1125303  1260144  463F320E6F58BDED  electric_bike  2022-07-25 16:03:06   \n",
              "\n",
              "                    ended_at          start_station_name start_station_id  \\\n",
              "0        2022-02-24 13:07:14          W 63 St & Broadway          7052.01   \n",
              "1        2022-09-14 23:01:37               53 St & 4 Ave          3169.07   \n",
              "2        2022-08-10 08:51:37         Bond St & Fulton St          4479.06   \n",
              "3        2022-05-11 16:08:24         W 113 St & Broadway          7713.01   \n",
              "4        2022-05-15 13:04:03             E 84 St & 1 Ave          7180.02   \n",
              "...                      ...                         ...              ...   \n",
              "1125299  2022-08-07 13:36:04              E 9 St & 5 Ave           5872.1   \n",
              "1125300  2022-07-26 19:11:44      Clinton St & Cherry St          5190.09   \n",
              "1125301  2022-07-08 22:12:11  Southern Blvd & Tiffany St          7867.04   \n",
              "1125302  2022-08-16 08:08:47         N 15 St & Wythe Ave          5520.09   \n",
              "1125303  2022-07-25 16:11:24      Parade Pl & Crooke Ave          3376.02   \n",
              "\n",
              "                    end_station_name end_station_id  start_lat  start_lng  \\\n",
              "0        E 58 St & 1 Ave (NE Corner)        6682.03  40.771639 -73.982614   \n",
              "1                      57 St & 1 Ave        3178.02  40.644862 -74.014531   \n",
              "2              LaGuardia Pl & W 3 St        5721.14  40.689541 -73.983084   \n",
              "3        Central Park West & W 68 St        7079.06  40.805973 -73.964928   \n",
              "4                    1 Ave & E 78 St        7020.09  40.775655 -73.950686   \n",
              "...                              ...            ...        ...        ...   \n",
              "1125299               E 9 St & 5 Ave        5872.10  40.732759 -73.995817   \n",
              "1125300         Market St & Henry St        5270.09  40.711471 -73.986726   \n",
              "1125301    Longfellow Ave & E 165 St        7983.04  40.818185 -73.894143   \n",
              "1125302       Huron St & Franklin St        5869.04  40.724112 -73.955865   \n",
              "1125303    Prospect Park SW & 10 Ave        3611.02  40.651847 -73.965248   \n",
              "\n",
              "           end_lat    end_lng member_casual  \n",
              "0        40.758924 -73.962262        member  \n",
              "1        40.646377 -74.023087        casual  \n",
              "2        40.729170 -73.998102        member  \n",
              "3        40.773407 -73.977825        member  \n",
              "4        40.771404 -73.953517        member  \n",
              "...            ...        ...           ...  \n",
              "1125299  40.732759 -73.995817        casual  \n",
              "1125300  40.713107 -73.994464        member  \n",
              "1125301  40.825322 -73.887729        member  \n",
              "1125302  40.732660 -73.958260        member  \n",
              "1125303  40.659945 -73.977504        member  \n",
              "\n",
              "[1123046 rows x 14 columns]"
            ]
          },
          "execution_count": 18,
          "metadata": {},
          "output_type": "execute_result"
        }
      ],
      "source": [
        "bike_data"
      ]
    },
    {
      "cell_type": "code",
      "execution_count": null,
      "metadata": {
        "colab": {
          "base_uri": "https://localhost:8080/",
          "height": 591
        },
        "id": "cuO47xM_b7Qw",
        "outputId": "d4f214cd-ded1-42e6-d987-868bdcf97c29"
      },
      "outputs": [
        {
          "data": {
            "image/png": "[encoded data removed]",
            "text/plain": [
              "<Figure size 1080x720 with 1 Axes>"
            ]
          },
          "metadata": {},
          "output_type": "display_data"
        }
      ],
      "source": [
        "from pandas.core.dtypes.generic import ABCCategorical\n",
        "no_of_rides_by_type = bike_data[['rideable_type', 'index']].groupby('rideable_type').count().reset_index()\n",
        "#no_of_rides_by_type.rename(columns = {'index':'Count'}, inplace = True)\n",
        "\n",
        "sns.set(rc={'figure.figsize':(15,10)})\n",
        "colors = sns.color_palette(\"GnBu_d\")\n",
        "ABC = no_of_rides_by_type['rideable_type'].tolist()\n",
        "\n",
        "plt.pie(no_of_rides_by_type['index'].tolist(), labels = ['Classic Bike', 'Docked Bike', 'Electric Bike'], colors = colors, autopct='%.0f%%')\n",
        "plt.title('Count of bike types in 2022')\n",
        "plt.savefig('pie_fig.pdf')\n",
        "plt.show()"
      ]
    },
    {
      "cell_type": "code",
      "execution_count": null,
      "metadata": {
        "id": "0ttJ4XSnu445"
      },
      "outputs": [],
      "source": [
        "bike_data['start_year'] = pd.DatetimeIndex(bike_data['started_at']).year\n",
        "bike_data['start_month'] = pd.DatetimeIndex(bike_data['started_at']).month\n",
        "bike_data['start_quarter'] = pd.DatetimeIndex(bike_data['started_at']).quarter\n",
        "bike_data['start_day'] = pd.DatetimeIndex(bike_data['started_at']).dayofweek"
      ]
    },
    {
      "cell_type": "code",
      "execution_count": null,
      "metadata": {
        "id": "qFFtoFIQYJsR"
      },
      "outputs": [],
      "source": [
        "bike_data['start_date'] = pd.to_datetime(bike_data['started_at']).dt.date\n",
        "bike_data['end_date'] = pd.to_datetime(bike_data['ended_at']).dt.date\n",
        "bike_data['start_time'] = pd.to_datetime(bike_data['started_at']).dt.time\n",
        "bike_data['end_time'] = pd.to_datetime(bike_data['ended_at']).dt.time"
      ]
    },
    {
      "cell_type": "code",
      "execution_count": null,
      "metadata": {
        "id": "3YdMap1asPyj"
      },
      "outputs": [],
      "source": [
        "#bike_data[\"start_date\"] =  pd.to_datetime(bike_data[\"start_date\"], format=\"%Y/%m/%d\")\n",
        "#bike_data[\"end_date\"] =  pd.to_datetime(bike_data[\"end_date\"], format=\"%Y/%m/%d\")"
      ]
    },
    {
      "cell_type": "code",
      "execution_count": null,
      "metadata": {
        "id": "mPDDJl_NuRq2"
      },
      "outputs": [],
      "source": [
        "bike_data['started_at'] =  pd.to_datetime(bike_data['started_at'], format='%Y/%m/%d %H:%M:%S')\n",
        "bike_data['ended_at'] =  pd.to_datetime(bike_data['ended_at'], format='%Y/%m/%d %H:%M:%S')"
      ]
    },
    {
      "cell_type": "code",
      "execution_count": null,
      "metadata": {
        "colab": {
          "base_uri": "https://localhost:8080/",
          "height": 473
        },
        "id": "Bu654L-gYN_J",
        "outputId": "f43a6af5-a92d-4010-8334-04ab65253589"
      },
      "outputs": [
        {
          "data": {
            "text/html": [
              "<div>\n",
              "<style scoped>\n",
              "    .dataframe tbody tr th:only-of-type {\n",
              "        vertical-align: middle;\n",
              "    }\n",
              "\n",
              "    .dataframe tbody tr th {\n",
              "        vertical-align: top;\n",
              "    }\n",
              "\n",
              "    .dataframe thead th {\n",
              "        text-align: right;\n",
              "    }\n",
              "</style>\n",
              "<table border=\"1\" class=\"dataframe\">\n",
              "  <thead>\n",
              "    <tr style=\"text-align: right;\">\n",
              "      <th></th>\n",
              "      <th>index</th>\n",
              "      <th>ride_id</th>\n",
              "      <th>rideable_type</th>\n",
              "      <th>started_at</th>\n",
              "      <th>ended_at</th>\n",
              "      <th>start_station_name</th>\n",
              "      <th>start_station_id</th>\n",
              "      <th>end_station_name</th>\n",
              "      <th>end_station_id</th>\n",
              "      <th>start_lat</th>\n",
              "      <th>...</th>\n",
              "      <th>member_casual</th>\n",
              "      <th>start_year</th>\n",
              "      <th>start_month</th>\n",
              "      <th>start_quarter</th>\n",
              "      <th>start_day</th>\n",
              "      <th>start_date</th>\n",
              "      <th>end_date</th>\n",
              "      <th>start_time</th>\n",
              "      <th>end_time</th>\n",
              "      <th>is_weekend</th>\n",
              "    </tr>\n",
              "  </thead>\n",
              "  <tbody>\n",
              "    <tr>\n",
              "      <th>1125299</th>\n",
              "      <td>1747028</td>\n",
              "      <td>9E990BD43E0EC3B5</td>\n",
              "      <td>electric_bike</td>\n",
              "      <td>2022-08-07 13:35:44</td>\n",
              "      <td>2022-08-07 13:36:04</td>\n",
              "      <td>E 9 St &amp; 5 Ave</td>\n",
              "      <td>5872.1</td>\n",
              "      <td>E 9 St &amp; 5 Ave</td>\n",
              "      <td>5872.10</td>\n",
              "      <td>40.732759</td>\n",
              "      <td>...</td>\n",
              "      <td>casual</td>\n",
              "      <td>2022</td>\n",
              "      <td>8</td>\n",
              "      <td>3</td>\n",
              "      <td>6</td>\n",
              "      <td>2022-08-07</td>\n",
              "      <td>2022-08-07</td>\n",
              "      <td>13:35:44</td>\n",
              "      <td>13:36:04</td>\n",
              "      <td>True</td>\n",
              "    </tr>\n",
              "    <tr>\n",
              "      <th>1125300</th>\n",
              "      <td>843657</td>\n",
              "      <td>A0FD7115FC78067F</td>\n",
              "      <td>classic_bike</td>\n",
              "      <td>2022-07-26 19:00:22</td>\n",
              "      <td>2022-07-26 19:11:44</td>\n",
              "      <td>Clinton St &amp; Cherry St</td>\n",
              "      <td>5190.09</td>\n",
              "      <td>Market St &amp; Henry St</td>\n",
              "      <td>5270.09</td>\n",
              "      <td>40.711471</td>\n",
              "      <td>...</td>\n",
              "      <td>member</td>\n",
              "      <td>2022</td>\n",
              "      <td>7</td>\n",
              "      <td>3</td>\n",
              "      <td>1</td>\n",
              "      <td>2022-07-26</td>\n",
              "      <td>2022-07-26</td>\n",
              "      <td>19:00:22</td>\n",
              "      <td>19:11:44</td>\n",
              "      <td>False</td>\n",
              "    </tr>\n",
              "    <tr>\n",
              "      <th>1125301</th>\n",
              "      <td>759519</td>\n",
              "      <td>034AC20640B1E0B2</td>\n",
              "      <td>electric_bike</td>\n",
              "      <td>2022-07-08 22:08:18</td>\n",
              "      <td>2022-07-08 22:12:11</td>\n",
              "      <td>Southern Blvd &amp; Tiffany St</td>\n",
              "      <td>7867.04</td>\n",
              "      <td>Longfellow Ave &amp; E 165 St</td>\n",
              "      <td>7983.04</td>\n",
              "      <td>40.818185</td>\n",
              "      <td>...</td>\n",
              "      <td>member</td>\n",
              "      <td>2022</td>\n",
              "      <td>7</td>\n",
              "      <td>3</td>\n",
              "      <td>4</td>\n",
              "      <td>2022-07-08</td>\n",
              "      <td>2022-07-08</td>\n",
              "      <td>22:08:18</td>\n",
              "      <td>22:12:11</td>\n",
              "      <td>False</td>\n",
              "    </tr>\n",
              "    <tr>\n",
              "      <th>1125302</th>\n",
              "      <td>1538418</td>\n",
              "      <td>FC763FC70AE2040D</td>\n",
              "      <td>classic_bike</td>\n",
              "      <td>2022-08-16 08:05:42</td>\n",
              "      <td>2022-08-16 08:08:47</td>\n",
              "      <td>N 15 St &amp; Wythe Ave</td>\n",
              "      <td>5520.09</td>\n",
              "      <td>Huron St &amp; Franklin St</td>\n",
              "      <td>5869.04</td>\n",
              "      <td>40.724112</td>\n",
              "      <td>...</td>\n",
              "      <td>member</td>\n",
              "      <td>2022</td>\n",
              "      <td>8</td>\n",
              "      <td>3</td>\n",
              "      <td>1</td>\n",
              "      <td>2022-08-16</td>\n",
              "      <td>2022-08-16</td>\n",
              "      <td>08:05:42</td>\n",
              "      <td>08:08:47</td>\n",
              "      <td>False</td>\n",
              "    </tr>\n",
              "    <tr>\n",
              "      <th>1125303</th>\n",
              "      <td>1260144</td>\n",
              "      <td>463F320E6F58BDED</td>\n",
              "      <td>electric_bike</td>\n",
              "      <td>2022-07-25 16:03:06</td>\n",
              "      <td>2022-07-25 16:11:24</td>\n",
              "      <td>Parade Pl &amp; Crooke Ave</td>\n",
              "      <td>3376.02</td>\n",
              "      <td>Prospect Park SW &amp; 10 Ave</td>\n",
              "      <td>3611.02</td>\n",
              "      <td>40.651847</td>\n",
              "      <td>...</td>\n",
              "      <td>member</td>\n",
              "      <td>2022</td>\n",
              "      <td>7</td>\n",
              "      <td>3</td>\n",
              "      <td>0</td>\n",
              "      <td>2022-07-25</td>\n",
              "      <td>2022-07-25</td>\n",
              "      <td>16:03:06</td>\n",
              "      <td>16:11:24</td>\n",
              "      <td>False</td>\n",
              "    </tr>\n",
              "  </tbody>\n",
              "</table>\n",
              "<p>5 rows × 23 columns</p>\n",
              "</div>"
            ],
            "text/plain": [
              "           index           ride_id  rideable_type          started_at  \\\n",
              "1125299  1747028  9E990BD43E0EC3B5  electric_bike 2022-08-07 13:35:44   \n",
              "1125300   843657  A0FD7115FC78067F   classic_bike 2022-07-26 19:00:22   \n",
              "1125301   759519  034AC20640B1E0B2  electric_bike 2022-07-08 22:08:18   \n",
              "1125302  1538418  FC763FC70AE2040D   classic_bike 2022-08-16 08:05:42   \n",
              "1125303  1260144  463F320E6F58BDED  electric_bike 2022-07-25 16:03:06   \n",
              "\n",
              "                   ended_at          start_station_name start_station_id  \\\n",
              "1125299 2022-08-07 13:36:04              E 9 St & 5 Ave           5872.1   \n",
              "1125300 2022-07-26 19:11:44      Clinton St & Cherry St          5190.09   \n",
              "1125301 2022-07-08 22:12:11  Southern Blvd & Tiffany St          7867.04   \n",
              "1125302 2022-08-16 08:08:47         N 15 St & Wythe Ave          5520.09   \n",
              "1125303 2022-07-25 16:11:24      Parade Pl & Crooke Ave          3376.02   \n",
              "\n",
              "                  end_station_name end_station_id  start_lat  ...  \\\n",
              "1125299             E 9 St & 5 Ave        5872.10  40.732759  ...   \n",
              "1125300       Market St & Henry St        5270.09  40.711471  ...   \n",
              "1125301  Longfellow Ave & E 165 St        7983.04  40.818185  ...   \n",
              "1125302     Huron St & Franklin St        5869.04  40.724112  ...   \n",
              "1125303  Prospect Park SW & 10 Ave        3611.02  40.651847  ...   \n",
              "\n",
              "         member_casual  start_year  start_month start_quarter  start_day  \\\n",
              "1125299         casual        2022            8             3          6   \n",
              "1125300         member        2022            7             3          1   \n",
              "1125301         member        2022            7             3          4   \n",
              "1125302         member        2022            8             3          1   \n",
              "1125303         member        2022            7             3          0   \n",
              "\n",
              "         start_date    end_date  start_time  end_time is_weekend  \n",
              "1125299  2022-08-07  2022-08-07    13:35:44  13:36:04       True  \n",
              "1125300  2022-07-26  2022-07-26    19:00:22  19:11:44      False  \n",
              "1125301  2022-07-08  2022-07-08    22:08:18  22:12:11      False  \n",
              "1125302  2022-08-16  2022-08-16    08:05:42  08:08:47      False  \n",
              "1125303  2022-07-25  2022-07-25    16:03:06  16:11:24      False  \n",
              "\n",
              "[5 rows x 23 columns]"
            ]
          },
          "execution_count": 24,
          "metadata": {},
          "output_type": "execute_result"
        }
      ],
      "source": [
        "bike_data[\"is_weekend\"] = bike_data[\"start_day\"] >= 5\n",
        "bike_data.tail()"
      ]
    },
    {
      "cell_type": "code",
      "execution_count": null,
      "metadata": {
        "id": "ZwUI5mHQWNUJ"
      },
      "outputs": [],
      "source": [
        "import matplotlib as mpl\n",
        "mpl.rcParams['agg.path.chunksize'] = 10000"
      ]
    },
    {
      "cell_type": "code",
      "execution_count": null,
      "metadata": {
        "id": "nHtQxpu5rGM5"
      },
      "outputs": [],
      "source": [
        "bike_data['ride_duration'] = (bike_data['ended_at'] - bike_data['started_at']).dt.total_seconds() / 60"
      ]
    },
    {
      "cell_type": "code",
      "execution_count": null,
      "metadata": {
        "id": "knbwILnd1Mla",
        "outputId": "abc661fd-bd3a-4a7c-ad92-51fef1eb3726"
      },
      "outputs": [
        {
          "data": {
            "image/png": "[encoded data removed]",
            "text/plain": [
              "<Figure size 1080x720 with 1 Axes>"
            ]
          },
          "metadata": {},
          "output_type": "display_data"
        }
      ],
      "source": [
        "no_of_rides_by_type1 = bike_data[['rideable_type', 'ride_duration']].groupby('rideable_type').mean().reset_index()\n",
        "#no_of_rides_by_type.rename(columns = {'index':'Count'}, inplace = True)\n",
        "\n",
        "sns.set(rc={'figure.figsize':(15,10)})\n",
        "colors = sns.color_palette(\"GnBu_d\")\n",
        "ABC = no_of_rides_by_type1['rideable_type'].tolist()\n",
        "\n",
        "plt.pie(no_of_rides_by_type1['ride_duration'].tolist(), labels = ['Classic Bike', 'Docked Bike', 'Electric Bike'], colors = colors, autopct='%.0f%%')\n",
        "plt.title('Duration per bike type in 2022')\n",
        "plt.savefig('pie_fig2.pdf')\n",
        "plt.show()"
      ]
    },
    {
      "cell_type": "code",
      "execution_count": null,
      "metadata": {
        "id": "7xNTMdYz1Mla",
        "outputId": "0d2a0dd6-2f78-43b6-e14a-c9517a8065e9"
      },
      "outputs": [
        {
          "data": {
            "text/html": [
              "<div>\n",
              "<style scoped>\n",
              "    .dataframe tbody tr th:only-of-type {\n",
              "        vertical-align: middle;\n",
              "    }\n",
              "\n",
              "    .dataframe tbody tr th {\n",
              "        vertical-align: top;\n",
              "    }\n",
              "\n",
              "    .dataframe thead th {\n",
              "        text-align: right;\n",
              "    }\n",
              "</style>\n",
              "<table border=\"1\" class=\"dataframe\">\n",
              "  <thead>\n",
              "    <tr style=\"text-align: right;\">\n",
              "      <th></th>\n",
              "      <th>rideable_type</th>\n",
              "      <th>ride_duration</th>\n",
              "    </tr>\n",
              "  </thead>\n",
              "  <tbody>\n",
              "    <tr>\n",
              "      <th>0</th>\n",
              "      <td>classic_bike</td>\n",
              "      <td>14.219698</td>\n",
              "    </tr>\n",
              "    <tr>\n",
              "      <th>1</th>\n",
              "      <td>docked_bike</td>\n",
              "      <td>28.819386</td>\n",
              "    </tr>\n",
              "    <tr>\n",
              "      <th>2</th>\n",
              "      <td>electric_bike</td>\n",
              "      <td>14.294706</td>\n",
              "    </tr>\n",
              "  </tbody>\n",
              "</table>\n",
              "</div>"
            ],
            "text/plain": [
              "   rideable_type  ride_duration\n",
              "0   classic_bike      14.219698\n",
              "1    docked_bike      28.819386\n",
              "2  electric_bike      14.294706"
            ]
          },
          "execution_count": 130,
          "metadata": {},
          "output_type": "execute_result"
        }
      ],
      "source": [
        "no_of_rides_by_type1"
      ]
    },
    {
      "cell_type": "code",
      "execution_count": null,
      "metadata": {
        "id": "QhbfsAdiE5UY"
      },
      "outputs": [],
      "source": [
        "bike_data = bike_data[bike_data['ride_duration'] <= 180]"
      ]
    },
    {
      "cell_type": "code",
      "execution_count": null,
      "metadata": {
        "id": "DDPX8chDVLFD"
      },
      "outputs": [],
      "source": [
        "#month = bike_data['started_at']\n",
        "#value = bike_data['ride_duration']\n",
        "new_data = bike_data.groupby('start_month')['ride_duration'].mean().reset_index()\n"
      ]
    },
    {
      "cell_type": "code",
      "execution_count": null,
      "metadata": {
        "colab": {
          "base_uri": "https://localhost:8080/",
          "height": 645
        },
        "id": "8N6QAUvmX8DE",
        "outputId": "41e6982e-07da-4cbb-d7e2-5c6ceb9cce8d"
      },
      "outputs": [
        {
          "name": "stderr",
          "output_type": "stream",
          "text": [
            "/tmp/ipykernel_144/3226531707.py:7: UserWarning: FixedFormatter should only be used together with FixedLocator\n",
            "  ax.set_xticklabels(['000000','Feb', 'March', 'Apr', 'May', 'Jun', 'Jul', 'Aug', 'Sep'])\n"
          ]
        },
        {
          "data": {
            "image/png": "[encoded data removed]",
            "text/plain": [
              "<Figure size 1080x720 with 1 Axes>"
            ]
          },
          "metadata": {},
          "output_type": "display_data"
        }
      ],
      "source": [
        "fig, ax = plt.subplots(figsize=(15, 10))\n",
        "ax.plot(new_data['start_month'], new_data['ride_duration'], linewidth = 3, color = 'mediumturquoise');\n",
        "plt.xlabel('Months')\n",
        "plt.ylabel('Average Ride Duration in Minutes')\n",
        "plt.title('Average Ride Duration by Month')\n",
        "#ax.set_yticklabels(['000000','750,000', '1,000,000', '1,250,000', '1,500,000', '1,750,000', '2,000,000', '2,250,000', '2,500,000', '2,750,000'])\n",
        "ax.set_xticklabels(['000000','Feb', 'March', 'Apr', 'May', 'Jun', 'Jul', 'Aug', 'Sep'])\n",
        "plt.legend(['Minutes'], loc = 'upper right')\n",
        "plt.savefig('line_plot.pdf')"
      ]
    },
    {
      "cell_type": "code",
      "execution_count": null,
      "metadata": {
        "colab": {
          "base_uri": "https://localhost:8080/",
          "height": 640
        },
        "id": "Xpnk75ppZTq4",
        "outputId": "d88711f7-0542-4941-e212-009d96db67bb"
      },
      "outputs": [
        {
          "data": {
            "text/plain": [
              "Text(0, 0.5, 'Total Ride Duration per Quarter')"
            ]
          },
          "execution_count": 30,
          "metadata": {},
          "output_type": "execute_result"
        },
        {
          "data": {
            "image/png": "[encoded data removed]",
            "text/plain": [
              "<Figure size 1008x720 with 1 Axes>"
            ]
          },
          "metadata": {},
          "output_type": "display_data"
        }
      ],
      "source": [
        "new_data1 = bike_data.groupby('start_quarter')['ride_duration'].sum().reset_index()\n",
        "fig, ax = plt.subplots(figsize=(14, 10))\n",
        "ax.plot(new_data1['start_quarter'], new_data1['ride_duration']);\n",
        "plt.xlabel('Quaters')\n",
        "plt.ylabel('Total Ride Duration per Quarter')"
      ]
    },
    {
      "cell_type": "code",
      "execution_count": null,
      "metadata": {
        "colab": {
          "base_uri": "https://localhost:8080/",
          "height": 143
        },
        "id": "QabuQN9Lrhjb",
        "outputId": "ccc90903-953e-4e3d-c5d7-1395d17de4ff"
      },
      "outputs": [
        {
          "data": {
            "text/html": [
              "<div>\n",
              "<style scoped>\n",
              "    .dataframe tbody tr th:only-of-type {\n",
              "        vertical-align: middle;\n",
              "    }\n",
              "\n",
              "    .dataframe tbody tr th {\n",
              "        vertical-align: top;\n",
              "    }\n",
              "\n",
              "    .dataframe thead th {\n",
              "        text-align: right;\n",
              "    }\n",
              "</style>\n",
              "<table border=\"1\" class=\"dataframe\">\n",
              "  <thead>\n",
              "    <tr style=\"text-align: right;\">\n",
              "      <th></th>\n",
              "      <th>start_quarter</th>\n",
              "      <th>ride_duration</th>\n",
              "    </tr>\n",
              "  </thead>\n",
              "  <tbody>\n",
              "    <tr>\n",
              "      <th>0</th>\n",
              "      <td>1</td>\n",
              "      <td>1.946954e+06</td>\n",
              "    </tr>\n",
              "    <tr>\n",
              "      <th>1</th>\n",
              "      <td>2</td>\n",
              "      <td>6.445509e+06</td>\n",
              "    </tr>\n",
              "    <tr>\n",
              "      <th>2</th>\n",
              "      <td>3</td>\n",
              "      <td>7.721771e+06</td>\n",
              "    </tr>\n",
              "  </tbody>\n",
              "</table>\n",
              "</div>"
            ],
            "text/plain": [
              "   start_quarter  ride_duration\n",
              "0              1   1.946954e+06\n",
              "1              2   6.445509e+06\n",
              "2              3   7.721771e+06"
            ]
          },
          "execution_count": 31,
          "metadata": {},
          "output_type": "execute_result"
        }
      ],
      "source": [
        "new_data1"
      ]
    },
    {
      "cell_type": "code",
      "execution_count": null,
      "metadata": {
        "colab": {
          "base_uri": "https://localhost:8080/",
          "height": 613
        },
        "id": "oFO3tiHf0VKp",
        "outputId": "33c88bb1-bce7-49d0-b7e0-3e5a81fb67b0"
      },
      "outputs": [
        {
          "data": {
            "text/plain": [
              "<AxesSubplot:>"
            ]
          },
          "execution_count": 32,
          "metadata": {},
          "output_type": "execute_result"
        },
        {
          "data": {
            "image/png": "[encoded data removed]",
            "text/plain": [
              "<Figure size 1080x720 with 1 Axes>"
            ]
          },
          "metadata": {},
          "output_type": "display_data"
        }
      ],
      "source": [
        "bike_data.boxplot(column = ['ride_duration'])"
      ]
    },
    {
      "cell_type": "code",
      "execution_count": null,
      "metadata": {
        "colab": {
          "base_uri": "https://localhost:8080/",
          "height": 35
        },
        "id": "ZZwe85o_UlAb",
        "outputId": "aaa989d4-04d5-4ae4-d347-f80c4304ab65"
      },
      "outputs": [
        {
          "data": {
            "text/plain": [
              "'fig, ax = plt.subplots(figsize=(8, 6))\\nax.plot(date, value)'"
            ]
          },
          "execution_count": 33,
          "metadata": {},
          "output_type": "execute_result"
        }
      ],
      "source": [
        "'''fig, ax = plt.subplots(figsize=(8, 6))\n",
        "ax.plot(date, value)'''"
      ]
    },
    {
      "cell_type": "code",
      "execution_count": null,
      "metadata": {
        "id": "UHWTgE0yA9_y"
      },
      "outputs": [],
      "source": [
        "#bike_data.boxplot(column = ['ride_duration'])"
      ]
    },
    {
      "cell_type": "code",
      "execution_count": null,
      "metadata": {
        "colab": {
          "base_uri": "https://localhost:8080/",
          "height": 835
        },
        "id": "fsaW6b4JB7-G",
        "outputId": "2c37e074-f587-4566-87c5-347ab8787866"
      },
      "outputs": [
        {
          "data": {
            "text/html": [
              "<div>\n",
              "<style scoped>\n",
              "    .dataframe tbody tr th:only-of-type {\n",
              "        vertical-align: middle;\n",
              "    }\n",
              "\n",
              "    .dataframe tbody tr th {\n",
              "        vertical-align: top;\n",
              "    }\n",
              "\n",
              "    .dataframe thead th {\n",
              "        text-align: right;\n",
              "    }\n",
              "</style>\n",
              "<table border=\"1\" class=\"dataframe\">\n",
              "  <thead>\n",
              "    <tr style=\"text-align: right;\">\n",
              "      <th></th>\n",
              "      <th>index</th>\n",
              "      <th>ride_id</th>\n",
              "      <th>rideable_type</th>\n",
              "      <th>started_at</th>\n",
              "      <th>ended_at</th>\n",
              "      <th>start_station_name</th>\n",
              "      <th>start_station_id</th>\n",
              "      <th>end_station_name</th>\n",
              "      <th>end_station_id</th>\n",
              "      <th>start_lat</th>\n",
              "      <th>...</th>\n",
              "      <th>start_year</th>\n",
              "      <th>start_month</th>\n",
              "      <th>start_quarter</th>\n",
              "      <th>start_day</th>\n",
              "      <th>start_date</th>\n",
              "      <th>end_date</th>\n",
              "      <th>start_time</th>\n",
              "      <th>end_time</th>\n",
              "      <th>is_weekend</th>\n",
              "      <th>ride_duration</th>\n",
              "    </tr>\n",
              "  </thead>\n",
              "  <tbody>\n",
              "    <tr>\n",
              "      <th>0</th>\n",
              "      <td>3368994</td>\n",
              "      <td>4A44EC47BA9EB4A6</td>\n",
              "      <td>electric_bike</td>\n",
              "      <td>2022-02-24 12:54:12</td>\n",
              "      <td>2022-02-24 13:07:14</td>\n",
              "      <td>W 63 St &amp; Broadway</td>\n",
              "      <td>7052.01</td>\n",
              "      <td>E 58 St &amp; 1 Ave (NE Corner)</td>\n",
              "      <td>6682.03</td>\n",
              "      <td>40.771639</td>\n",
              "      <td>...</td>\n",
              "      <td>2022</td>\n",
              "      <td>2</td>\n",
              "      <td>1</td>\n",
              "      <td>3</td>\n",
              "      <td>2022-02-24</td>\n",
              "      <td>2022-02-24</td>\n",
              "      <td>12:54:12</td>\n",
              "      <td>13:07:14</td>\n",
              "      <td>False</td>\n",
              "      <td>13.033333</td>\n",
              "    </tr>\n",
              "    <tr>\n",
              "      <th>1</th>\n",
              "      <td>660250</td>\n",
              "      <td>C717D1B99BDC6990</td>\n",
              "      <td>electric_bike</td>\n",
              "      <td>2022-09-14 22:57:02</td>\n",
              "      <td>2022-09-14 23:01:37</td>\n",
              "      <td>53 St &amp; 4 Ave</td>\n",
              "      <td>3169.07</td>\n",
              "      <td>57 St &amp; 1 Ave</td>\n",
              "      <td>3178.02</td>\n",
              "      <td>40.644862</td>\n",
              "      <td>...</td>\n",
              "      <td>2022</td>\n",
              "      <td>9</td>\n",
              "      <td>3</td>\n",
              "      <td>2</td>\n",
              "      <td>2022-09-14</td>\n",
              "      <td>2022-09-14</td>\n",
              "      <td>22:57:02</td>\n",
              "      <td>23:01:37</td>\n",
              "      <td>False</td>\n",
              "      <td>4.583333</td>\n",
              "    </tr>\n",
              "    <tr>\n",
              "      <th>2</th>\n",
              "      <td>1954835</td>\n",
              "      <td>DCD0CD602279B1D3</td>\n",
              "      <td>classic_bike</td>\n",
              "      <td>2022-08-10 08:35:40</td>\n",
              "      <td>2022-08-10 08:51:37</td>\n",
              "      <td>Bond St &amp; Fulton St</td>\n",
              "      <td>4479.06</td>\n",
              "      <td>LaGuardia Pl &amp; W 3 St</td>\n",
              "      <td>5721.14</td>\n",
              "      <td>40.689541</td>\n",
              "      <td>...</td>\n",
              "      <td>2022</td>\n",
              "      <td>8</td>\n",
              "      <td>3</td>\n",
              "      <td>2</td>\n",
              "      <td>2022-08-10</td>\n",
              "      <td>2022-08-10</td>\n",
              "      <td>08:35:40</td>\n",
              "      <td>08:51:37</td>\n",
              "      <td>False</td>\n",
              "      <td>15.950000</td>\n",
              "    </tr>\n",
              "    <tr>\n",
              "      <th>3</th>\n",
              "      <td>4441319</td>\n",
              "      <td>62A602C908B3DE1E</td>\n",
              "      <td>electric_bike</td>\n",
              "      <td>2022-05-11 15:50:21</td>\n",
              "      <td>2022-05-11 16:08:24</td>\n",
              "      <td>W 113 St &amp; Broadway</td>\n",
              "      <td>7713.01</td>\n",
              "      <td>Central Park West &amp; W 68 St</td>\n",
              "      <td>7079.06</td>\n",
              "      <td>40.805973</td>\n",
              "      <td>...</td>\n",
              "      <td>2022</td>\n",
              "      <td>5</td>\n",
              "      <td>2</td>\n",
              "      <td>2</td>\n",
              "      <td>2022-05-11</td>\n",
              "      <td>2022-05-11</td>\n",
              "      <td>15:50:21</td>\n",
              "      <td>16:08:24</td>\n",
              "      <td>False</td>\n",
              "      <td>18.050000</td>\n",
              "    </tr>\n",
              "    <tr>\n",
              "      <th>4</th>\n",
              "      <td>4342835</td>\n",
              "      <td>FB7CC314A32B4200</td>\n",
              "      <td>electric_bike</td>\n",
              "      <td>2022-05-15 13:00:28</td>\n",
              "      <td>2022-05-15 13:04:03</td>\n",
              "      <td>E 84 St &amp; 1 Ave</td>\n",
              "      <td>7180.02</td>\n",
              "      <td>1 Ave &amp; E 78 St</td>\n",
              "      <td>7020.09</td>\n",
              "      <td>40.775655</td>\n",
              "      <td>...</td>\n",
              "      <td>2022</td>\n",
              "      <td>5</td>\n",
              "      <td>2</td>\n",
              "      <td>6</td>\n",
              "      <td>2022-05-15</td>\n",
              "      <td>2022-05-15</td>\n",
              "      <td>13:00:28</td>\n",
              "      <td>13:04:03</td>\n",
              "      <td>True</td>\n",
              "      <td>3.583333</td>\n",
              "    </tr>\n",
              "    <tr>\n",
              "      <th>...</th>\n",
              "      <td>...</td>\n",
              "      <td>...</td>\n",
              "      <td>...</td>\n",
              "      <td>...</td>\n",
              "      <td>...</td>\n",
              "      <td>...</td>\n",
              "      <td>...</td>\n",
              "      <td>...</td>\n",
              "      <td>...</td>\n",
              "      <td>...</td>\n",
              "      <td>...</td>\n",
              "      <td>...</td>\n",
              "      <td>...</td>\n",
              "      <td>...</td>\n",
              "      <td>...</td>\n",
              "      <td>...</td>\n",
              "      <td>...</td>\n",
              "      <td>...</td>\n",
              "      <td>...</td>\n",
              "      <td>...</td>\n",
              "      <td>...</td>\n",
              "    </tr>\n",
              "    <tr>\n",
              "      <th>1125299</th>\n",
              "      <td>1747028</td>\n",
              "      <td>9E990BD43E0EC3B5</td>\n",
              "      <td>electric_bike</td>\n",
              "      <td>2022-08-07 13:35:44</td>\n",
              "      <td>2022-08-07 13:36:04</td>\n",
              "      <td>E 9 St &amp; 5 Ave</td>\n",
              "      <td>5872.1</td>\n",
              "      <td>E 9 St &amp; 5 Ave</td>\n",
              "      <td>5872.10</td>\n",
              "      <td>40.732759</td>\n",
              "      <td>...</td>\n",
              "      <td>2022</td>\n",
              "      <td>8</td>\n",
              "      <td>3</td>\n",
              "      <td>6</td>\n",
              "      <td>2022-08-07</td>\n",
              "      <td>2022-08-07</td>\n",
              "      <td>13:35:44</td>\n",
              "      <td>13:36:04</td>\n",
              "      <td>True</td>\n",
              "      <td>0.333333</td>\n",
              "    </tr>\n",
              "    <tr>\n",
              "      <th>1125300</th>\n",
              "      <td>843657</td>\n",
              "      <td>A0FD7115FC78067F</td>\n",
              "      <td>classic_bike</td>\n",
              "      <td>2022-07-26 19:00:22</td>\n",
              "      <td>2022-07-26 19:11:44</td>\n",
              "      <td>Clinton St &amp; Cherry St</td>\n",
              "      <td>5190.09</td>\n",
              "      <td>Market St &amp; Henry St</td>\n",
              "      <td>5270.09</td>\n",
              "      <td>40.711471</td>\n",
              "      <td>...</td>\n",
              "      <td>2022</td>\n",
              "      <td>7</td>\n",
              "      <td>3</td>\n",
              "      <td>1</td>\n",
              "      <td>2022-07-26</td>\n",
              "      <td>2022-07-26</td>\n",
              "      <td>19:00:22</td>\n",
              "      <td>19:11:44</td>\n",
              "      <td>False</td>\n",
              "      <td>11.366667</td>\n",
              "    </tr>\n",
              "    <tr>\n",
              "      <th>1125301</th>\n",
              "      <td>759519</td>\n",
              "      <td>034AC20640B1E0B2</td>\n",
              "      <td>electric_bike</td>\n",
              "      <td>2022-07-08 22:08:18</td>\n",
              "      <td>2022-07-08 22:12:11</td>\n",
              "      <td>Southern Blvd &amp; Tiffany St</td>\n",
              "      <td>7867.04</td>\n",
              "      <td>Longfellow Ave &amp; E 165 St</td>\n",
              "      <td>7983.04</td>\n",
              "      <td>40.818185</td>\n",
              "      <td>...</td>\n",
              "      <td>2022</td>\n",
              "      <td>7</td>\n",
              "      <td>3</td>\n",
              "      <td>4</td>\n",
              "      <td>2022-07-08</td>\n",
              "      <td>2022-07-08</td>\n",
              "      <td>22:08:18</td>\n",
              "      <td>22:12:11</td>\n",
              "      <td>False</td>\n",
              "      <td>3.883333</td>\n",
              "    </tr>\n",
              "    <tr>\n",
              "      <th>1125302</th>\n",
              "      <td>1538418</td>\n",
              "      <td>FC763FC70AE2040D</td>\n",
              "      <td>classic_bike</td>\n",
              "      <td>2022-08-16 08:05:42</td>\n",
              "      <td>2022-08-16 08:08:47</td>\n",
              "      <td>N 15 St &amp; Wythe Ave</td>\n",
              "      <td>5520.09</td>\n",
              "      <td>Huron St &amp; Franklin St</td>\n",
              "      <td>5869.04</td>\n",
              "      <td>40.724112</td>\n",
              "      <td>...</td>\n",
              "      <td>2022</td>\n",
              "      <td>8</td>\n",
              "      <td>3</td>\n",
              "      <td>1</td>\n",
              "      <td>2022-08-16</td>\n",
              "      <td>2022-08-16</td>\n",
              "      <td>08:05:42</td>\n",
              "      <td>08:08:47</td>\n",
              "      <td>False</td>\n",
              "      <td>3.083333</td>\n",
              "    </tr>\n",
              "    <tr>\n",
              "      <th>1125303</th>\n",
              "      <td>1260144</td>\n",
              "      <td>463F320E6F58BDED</td>\n",
              "      <td>electric_bike</td>\n",
              "      <td>2022-07-25 16:03:06</td>\n",
              "      <td>2022-07-25 16:11:24</td>\n",
              "      <td>Parade Pl &amp; Crooke Ave</td>\n",
              "      <td>3376.02</td>\n",
              "      <td>Prospect Park SW &amp; 10 Ave</td>\n",
              "      <td>3611.02</td>\n",
              "      <td>40.651847</td>\n",
              "      <td>...</td>\n",
              "      <td>2022</td>\n",
              "      <td>7</td>\n",
              "      <td>3</td>\n",
              "      <td>0</td>\n",
              "      <td>2022-07-25</td>\n",
              "      <td>2022-07-25</td>\n",
              "      <td>16:03:06</td>\n",
              "      <td>16:11:24</td>\n",
              "      <td>False</td>\n",
              "      <td>8.300000</td>\n",
              "    </tr>\n",
              "  </tbody>\n",
              "</table>\n",
              "<p>1120310 rows × 24 columns</p>\n",
              "</div>"
            ],
            "text/plain": [
              "           index           ride_id  rideable_type          started_at  \\\n",
              "0        3368994  4A44EC47BA9EB4A6  electric_bike 2022-02-24 12:54:12   \n",
              "1         660250  C717D1B99BDC6990  electric_bike 2022-09-14 22:57:02   \n",
              "2        1954835  DCD0CD602279B1D3   classic_bike 2022-08-10 08:35:40   \n",
              "3        4441319  62A602C908B3DE1E  electric_bike 2022-05-11 15:50:21   \n",
              "4        4342835  FB7CC314A32B4200  electric_bike 2022-05-15 13:00:28   \n",
              "...          ...               ...            ...                 ...   \n",
              "1125299  1747028  9E990BD43E0EC3B5  electric_bike 2022-08-07 13:35:44   \n",
              "1125300   843657  A0FD7115FC78067F   classic_bike 2022-07-26 19:00:22   \n",
              "1125301   759519  034AC20640B1E0B2  electric_bike 2022-07-08 22:08:18   \n",
              "1125302  1538418  FC763FC70AE2040D   classic_bike 2022-08-16 08:05:42   \n",
              "1125303  1260144  463F320E6F58BDED  electric_bike 2022-07-25 16:03:06   \n",
              "\n",
              "                   ended_at          start_station_name start_station_id  \\\n",
              "0       2022-02-24 13:07:14          W 63 St & Broadway          7052.01   \n",
              "1       2022-09-14 23:01:37               53 St & 4 Ave          3169.07   \n",
              "2       2022-08-10 08:51:37         Bond St & Fulton St          4479.06   \n",
              "3       2022-05-11 16:08:24         W 113 St & Broadway          7713.01   \n",
              "4       2022-05-15 13:04:03             E 84 St & 1 Ave          7180.02   \n",
              "...                     ...                         ...              ...   \n",
              "1125299 2022-08-07 13:36:04              E 9 St & 5 Ave           5872.1   \n",
              "1125300 2022-07-26 19:11:44      Clinton St & Cherry St          5190.09   \n",
              "1125301 2022-07-08 22:12:11  Southern Blvd & Tiffany St          7867.04   \n",
              "1125302 2022-08-16 08:08:47         N 15 St & Wythe Ave          5520.09   \n",
              "1125303 2022-07-25 16:11:24      Parade Pl & Crooke Ave          3376.02   \n",
              "\n",
              "                    end_station_name end_station_id  start_lat  ...  \\\n",
              "0        E 58 St & 1 Ave (NE Corner)        6682.03  40.771639  ...   \n",
              "1                      57 St & 1 Ave        3178.02  40.644862  ...   \n",
              "2              LaGuardia Pl & W 3 St        5721.14  40.689541  ...   \n",
              "3        Central Park West & W 68 St        7079.06  40.805973  ...   \n",
              "4                    1 Ave & E 78 St        7020.09  40.775655  ...   \n",
              "...                              ...            ...        ...  ...   \n",
              "1125299               E 9 St & 5 Ave        5872.10  40.732759  ...   \n",
              "1125300         Market St & Henry St        5270.09  40.711471  ...   \n",
              "1125301    Longfellow Ave & E 165 St        7983.04  40.818185  ...   \n",
              "1125302       Huron St & Franklin St        5869.04  40.724112  ...   \n",
              "1125303    Prospect Park SW & 10 Ave        3611.02  40.651847  ...   \n",
              "\n",
              "         start_year  start_month  start_quarter start_day  start_date  \\\n",
              "0              2022            2              1         3  2022-02-24   \n",
              "1              2022            9              3         2  2022-09-14   \n",
              "2              2022            8              3         2  2022-08-10   \n",
              "3              2022            5              2         2  2022-05-11   \n",
              "4              2022            5              2         6  2022-05-15   \n",
              "...             ...          ...            ...       ...         ...   \n",
              "1125299        2022            8              3         6  2022-08-07   \n",
              "1125300        2022            7              3         1  2022-07-26   \n",
              "1125301        2022            7              3         4  2022-07-08   \n",
              "1125302        2022            8              3         1  2022-08-16   \n",
              "1125303        2022            7              3         0  2022-07-25   \n",
              "\n",
              "           end_date  start_time  end_time is_weekend ride_duration  \n",
              "0        2022-02-24    12:54:12  13:07:14      False     13.033333  \n",
              "1        2022-09-14    22:57:02  23:01:37      False      4.583333  \n",
              "2        2022-08-10    08:35:40  08:51:37      False     15.950000  \n",
              "3        2022-05-11    15:50:21  16:08:24      False     18.050000  \n",
              "4        2022-05-15    13:00:28  13:04:03       True      3.583333  \n",
              "...             ...         ...       ...        ...           ...  \n",
              "1125299  2022-08-07    13:35:44  13:36:04       True      0.333333  \n",
              "1125300  2022-07-26    19:00:22  19:11:44      False     11.366667  \n",
              "1125301  2022-07-08    22:08:18  22:12:11      False      3.883333  \n",
              "1125302  2022-08-16    08:05:42  08:08:47      False      3.083333  \n",
              "1125303  2022-07-25    16:03:06  16:11:24      False      8.300000  \n",
              "\n",
              "[1120310 rows x 24 columns]"
            ]
          },
          "execution_count": 35,
          "metadata": {},
          "output_type": "execute_result"
        }
      ],
      "source": [
        "bike_data"
      ]
    },
    {
      "cell_type": "code",
      "execution_count": null,
      "metadata": {
        "colab": {
          "base_uri": "https://localhost:8080/",
          "height": 627
        },
        "id": "g742pVmUZnXc",
        "outputId": "ef67dee2-031b-4d09-ce34-4915a7f4a511"
      },
      "outputs": [
        {
          "data": {
            "image/png": "[encoded data removed]",
            "text/plain": [
              "<Figure size 1080x720 with 1 Axes>"
            ]
          },
          "metadata": {},
          "output_type": "display_data"
        }
      ],
      "source": [
        "import seaborn as sns\n",
        "sns.countplot(data=bike_data,x=\"start_day\", hue='is_weekend', palette= \"GnBu_d\", dodge=False)\n",
        "plt.ylabel('Count of Bikes')\n",
        "plt.xlabel('Days of the Week')\n",
        "plt.title('Count of Bikes used each day of the week')\n",
        "sns.set(rc = {'figure.figsize':(15,10)})\n",
        "plt.legend(title='Weekend', loc='upper right', labels=['False', 'True'])\n",
        "plt.savefig('weekend.pdf')"
      ]
    },
    {
      "cell_type": "code",
      "execution_count": null,
      "metadata": {
        "colab": {
          "base_uri": "https://localhost:8080/",
          "height": 627
        },
        "id": "XobHIRo078g6",
        "outputId": "b1be3392-a109-46b8-9362-35811f4ba436"
      },
      "outputs": [
        {
          "data": {
            "image/png": "[encoded data removed]",
            "text/plain": [
              "<Figure size 1080x720 with 1 Axes>"
            ]
          },
          "metadata": {},
          "output_type": "display_data"
        }
      ],
      "source": [
        "sns.countplot(data=bike_data,x='start_month', palette= \"GnBu_d\", dodge=False)\n",
        "\n",
        "x= bike_data['start_month'].value_counts()\n",
        "plt.ylabel('No.of rides')\n",
        "plt.xlabel('Month of the year')\n",
        "plt.title('Use of bikes every month')\n",
        "plt.savefig('Monthlybar.pdf')\n",
        "plt.show()"
      ]
    },
    {
      "cell_type": "code",
      "execution_count": null,
      "metadata": {
        "colab": {
          "base_uri": "https://localhost:8080/",
          "height": 455
        },
        "id": "AiIlh4_Ow66g",
        "outputId": "47506bc5-b484-435e-e1e3-deb839eb78d8"
      },
      "outputs": [
        {
          "data": {
            "text/html": [
              "<div>\n",
              "<style scoped>\n",
              "    .dataframe tbody tr th:only-of-type {\n",
              "        vertical-align: middle;\n",
              "    }\n",
              "\n",
              "    .dataframe tbody tr th {\n",
              "        vertical-align: top;\n",
              "    }\n",
              "\n",
              "    .dataframe thead th {\n",
              "        text-align: right;\n",
              "    }\n",
              "</style>\n",
              "<table border=\"1\" class=\"dataframe\">\n",
              "  <thead>\n",
              "    <tr style=\"text-align: right;\">\n",
              "      <th></th>\n",
              "      <th>Count</th>\n",
              "    </tr>\n",
              "    <tr>\n",
              "      <th>start_station_name</th>\n",
              "      <th></th>\n",
              "    </tr>\n",
              "  </thead>\n",
              "  <tbody>\n",
              "    <tr>\n",
              "      <th>1 Ave &amp; E 110 St</th>\n",
              "      <td>762</td>\n",
              "    </tr>\n",
              "    <tr>\n",
              "      <th>1 Ave &amp; E 16 St</th>\n",
              "      <td>2557</td>\n",
              "    </tr>\n",
              "    <tr>\n",
              "      <th>1 Ave &amp; E 18 St</th>\n",
              "      <td>2636</td>\n",
              "    </tr>\n",
              "    <tr>\n",
              "      <th>1 Ave &amp; E 30 St</th>\n",
              "      <td>1647</td>\n",
              "    </tr>\n",
              "    <tr>\n",
              "      <th>1 Ave &amp; E 39 St</th>\n",
              "      <td>2032</td>\n",
              "    </tr>\n",
              "    <tr>\n",
              "      <th>...</th>\n",
              "      <td>...</td>\n",
              "    </tr>\n",
              "    <tr>\n",
              "      <th>Wyckoff Av &amp; Stanhope St</th>\n",
              "      <td>583</td>\n",
              "    </tr>\n",
              "    <tr>\n",
              "      <th>Wyckoff Ave &amp; Gates Ave</th>\n",
              "      <td>625</td>\n",
              "    </tr>\n",
              "    <tr>\n",
              "      <th>Wyckoff St &amp; Nevins St</th>\n",
              "      <td>439</td>\n",
              "    </tr>\n",
              "    <tr>\n",
              "      <th>Wythe Ave &amp; Metropolitan Ave</th>\n",
              "      <td>2611</td>\n",
              "    </tr>\n",
              "    <tr>\n",
              "      <th>Yankee Ferry Terminal</th>\n",
              "      <td>537</td>\n",
              "    </tr>\n",
              "  </tbody>\n",
              "</table>\n",
              "<p>1662 rows × 1 columns</p>\n",
              "</div>"
            ],
            "text/plain": [
              "                              Count\n",
              "start_station_name                 \n",
              "1 Ave & E 110 St                762\n",
              "1 Ave & E 16 St                2557\n",
              "1 Ave & E 18 St                2636\n",
              "1 Ave & E 30 St                1647\n",
              "1 Ave & E 39 St                2032\n",
              "...                             ...\n",
              "Wyckoff Av & Stanhope St        583\n",
              "Wyckoff Ave & Gates Ave         625\n",
              "Wyckoff St & Nevins St          439\n",
              "Wythe Ave & Metropolitan Ave   2611\n",
              "Yankee Ferry Terminal           537\n",
              "\n",
              "[1662 rows x 1 columns]"
            ]
          },
          "execution_count": 38,
          "metadata": {},
          "output_type": "execute_result"
        }
      ],
      "source": [
        "no_of_rides_by_start_st = bike_data[['start_station_name', 'index']].groupby('start_station_name').count()\n",
        "no_of_rides_by_start_st.rename(columns = {'index':'Count'}, inplace = True)\n",
        "no_of_rides_by_start_st"
      ]
    },
    {
      "cell_type": "code",
      "execution_count": null,
      "metadata": {
        "colab": {
          "base_uri": "https://localhost:8080/",
          "height": 455
        },
        "id": "PVhyli4JyURS",
        "outputId": "78b283ef-ff4c-4a63-fc38-69d5b0554056"
      },
      "outputs": [
        {
          "data": {
            "text/html": [
              "<div>\n",
              "<style scoped>\n",
              "    .dataframe tbody tr th:only-of-type {\n",
              "        vertical-align: middle;\n",
              "    }\n",
              "\n",
              "    .dataframe tbody tr th {\n",
              "        vertical-align: top;\n",
              "    }\n",
              "\n",
              "    .dataframe thead th {\n",
              "        text-align: right;\n",
              "    }\n",
              "</style>\n",
              "<table border=\"1\" class=\"dataframe\">\n",
              "  <thead>\n",
              "    <tr style=\"text-align: right;\">\n",
              "      <th></th>\n",
              "      <th>Count</th>\n",
              "    </tr>\n",
              "    <tr>\n",
              "      <th>start_station_name</th>\n",
              "      <th></th>\n",
              "    </tr>\n",
              "  </thead>\n",
              "  <tbody>\n",
              "    <tr>\n",
              "      <th>1 Ave &amp; E 110 St</th>\n",
              "      <td>762</td>\n",
              "    </tr>\n",
              "    <tr>\n",
              "      <th>1 Ave &amp; E 16 St</th>\n",
              "      <td>2557</td>\n",
              "    </tr>\n",
              "    <tr>\n",
              "      <th>1 Ave &amp; E 18 St</th>\n",
              "      <td>2636</td>\n",
              "    </tr>\n",
              "    <tr>\n",
              "      <th>1 Ave &amp; E 30 St</th>\n",
              "      <td>1647</td>\n",
              "    </tr>\n",
              "    <tr>\n",
              "      <th>1 Ave &amp; E 39 St</th>\n",
              "      <td>2032</td>\n",
              "    </tr>\n",
              "    <tr>\n",
              "      <th>...</th>\n",
              "      <td>...</td>\n",
              "    </tr>\n",
              "    <tr>\n",
              "      <th>Wyckoff Av &amp; Stanhope St</th>\n",
              "      <td>583</td>\n",
              "    </tr>\n",
              "    <tr>\n",
              "      <th>Wyckoff Ave &amp; Gates Ave</th>\n",
              "      <td>625</td>\n",
              "    </tr>\n",
              "    <tr>\n",
              "      <th>Wyckoff St &amp; Nevins St</th>\n",
              "      <td>439</td>\n",
              "    </tr>\n",
              "    <tr>\n",
              "      <th>Wythe Ave &amp; Metropolitan Ave</th>\n",
              "      <td>2611</td>\n",
              "    </tr>\n",
              "    <tr>\n",
              "      <th>Yankee Ferry Terminal</th>\n",
              "      <td>537</td>\n",
              "    </tr>\n",
              "  </tbody>\n",
              "</table>\n",
              "<p>1662 rows × 1 columns</p>\n",
              "</div>"
            ],
            "text/plain": [
              "                              Count\n",
              "start_station_name                 \n",
              "1 Ave & E 110 St                762\n",
              "1 Ave & E 16 St                2557\n",
              "1 Ave & E 18 St                2636\n",
              "1 Ave & E 30 St                1647\n",
              "1 Ave & E 39 St                2032\n",
              "...                             ...\n",
              "Wyckoff Av & Stanhope St        583\n",
              "Wyckoff Ave & Gates Ave         625\n",
              "Wyckoff St & Nevins St          439\n",
              "Wythe Ave & Metropolitan Ave   2611\n",
              "Yankee Ferry Terminal           537\n",
              "\n",
              "[1662 rows x 1 columns]"
            ]
          },
          "execution_count": 39,
          "metadata": {},
          "output_type": "execute_result"
        }
      ],
      "source": [
        "no_of_rides_by_start_st"
      ]
    },
    {
      "cell_type": "code",
      "execution_count": null,
      "metadata": {
        "id": "mqKV3xo-I-qH"
      },
      "outputs": [],
      "source": [
        "start_stations = no_of_rides_by_start_st.sort_values(by=['Count'], ascending = False)\n"
      ]
    },
    {
      "cell_type": "code",
      "execution_count": null,
      "metadata": {
        "colab": {
          "base_uri": "https://localhost:8080/",
          "height": 394
        },
        "id": "kbn4NXTyJSgP",
        "outputId": "61074910-e98e-46e5-e654-cef6d45d52ed"
      },
      "outputs": [
        {
          "data": {
            "text/html": [
              "<div>\n",
              "<style scoped>\n",
              "    .dataframe tbody tr th:only-of-type {\n",
              "        vertical-align: middle;\n",
              "    }\n",
              "\n",
              "    .dataframe tbody tr th {\n",
              "        vertical-align: top;\n",
              "    }\n",
              "\n",
              "    .dataframe thead th {\n",
              "        text-align: right;\n",
              "    }\n",
              "</style>\n",
              "<table border=\"1\" class=\"dataframe\">\n",
              "  <thead>\n",
              "    <tr style=\"text-align: right;\">\n",
              "      <th></th>\n",
              "      <th>Count</th>\n",
              "    </tr>\n",
              "    <tr>\n",
              "      <th>start_station_name</th>\n",
              "      <th></th>\n",
              "    </tr>\n",
              "  </thead>\n",
              "  <tbody>\n",
              "    <tr>\n",
              "      <th>West St &amp; Chambers St</th>\n",
              "      <td>4945</td>\n",
              "    </tr>\n",
              "    <tr>\n",
              "      <th>W 21 St &amp; 6 Ave</th>\n",
              "      <td>4612</td>\n",
              "    </tr>\n",
              "    <tr>\n",
              "      <th>Broadway &amp; W 58 St</th>\n",
              "      <td>4240</td>\n",
              "    </tr>\n",
              "    <tr>\n",
              "      <th>6 Ave &amp; W 33 St</th>\n",
              "      <td>4082</td>\n",
              "    </tr>\n",
              "    <tr>\n",
              "      <th>1 Ave &amp; E 68 St</th>\n",
              "      <td>3789</td>\n",
              "    </tr>\n",
              "    <tr>\n",
              "      <th>Broadway &amp; E 14 St</th>\n",
              "      <td>3780</td>\n",
              "    </tr>\n",
              "    <tr>\n",
              "      <th>12 Ave &amp; W 40 St</th>\n",
              "      <td>3743</td>\n",
              "    </tr>\n",
              "    <tr>\n",
              "      <th>Broadway &amp; W 25 St</th>\n",
              "      <td>3709</td>\n",
              "    </tr>\n",
              "    <tr>\n",
              "      <th>Central Park S &amp; 6 Ave</th>\n",
              "      <td>3679</td>\n",
              "    </tr>\n",
              "    <tr>\n",
              "      <th>Broadway &amp; E 21 St</th>\n",
              "      <td>3671</td>\n",
              "    </tr>\n",
              "  </tbody>\n",
              "</table>\n",
              "</div>"
            ],
            "text/plain": [
              "                        Count\n",
              "start_station_name           \n",
              "West St & Chambers St    4945\n",
              "W 21 St & 6 Ave          4612\n",
              "Broadway & W 58 St       4240\n",
              "6 Ave & W 33 St          4082\n",
              "1 Ave & E 68 St          3789\n",
              "Broadway & E 14 St       3780\n",
              "12 Ave & W 40 St         3743\n",
              "Broadway & W 25 St       3709\n",
              "Central Park S & 6 Ave   3679\n",
              "Broadway & E 21 St       3671"
            ]
          },
          "execution_count": 41,
          "metadata": {},
          "output_type": "execute_result"
        }
      ],
      "source": [
        "start_stations = start_stations.head(10)\n",
        "start_stations"
      ]
    },
    {
      "cell_type": "code",
      "execution_count": null,
      "metadata": {
        "colab": {
          "base_uri": "https://localhost:8080/",
          "height": 627
        },
        "id": "vS0MoV_nKth_",
        "outputId": "a15cf875-b33f-4f7c-95c6-98d08b9edbe9"
      },
      "outputs": [
        {
          "data": {
            "image/png": "[encoded data removed]",
            "text/plain": [
              "<Figure size 1080x720 with 1 Axes>"
            ]
          },
          "metadata": {},
          "output_type": "display_data"
        }
      ],
      "source": [
        "start_stations.plot.barh()\n",
        "plt.xlabel('No.of rides')\n",
        "plt.ylabel('Location')\n",
        "plt.title('Most probable location for starting the Citi Bike ride')\n",
        "import seaborn as sns\n",
        "sns.set_theme()"
      ]
    },
    {
      "cell_type": "code",
      "execution_count": null,
      "metadata": {
        "colab": {
          "base_uri": "https://localhost:8080/",
          "height": 455
        },
        "id": "Ti14qNntIgZP",
        "outputId": "8597585e-ad20-4137-f075-90c798f4ec60"
      },
      "outputs": [
        {
          "data": {
            "text/html": [
              "<div>\n",
              "<style scoped>\n",
              "    .dataframe tbody tr th:only-of-type {\n",
              "        vertical-align: middle;\n",
              "    }\n",
              "\n",
              "    .dataframe tbody tr th {\n",
              "        vertical-align: top;\n",
              "    }\n",
              "\n",
              "    .dataframe thead th {\n",
              "        text-align: right;\n",
              "    }\n",
              "</style>\n",
              "<table border=\"1\" class=\"dataframe\">\n",
              "  <thead>\n",
              "    <tr style=\"text-align: right;\">\n",
              "      <th></th>\n",
              "      <th>Count</th>\n",
              "    </tr>\n",
              "    <tr>\n",
              "      <th>end_station_name</th>\n",
              "      <th></th>\n",
              "    </tr>\n",
              "  </thead>\n",
              "  <tbody>\n",
              "    <tr>\n",
              "      <th>1 Ave &amp; E 110 St</th>\n",
              "      <td>780</td>\n",
              "    </tr>\n",
              "    <tr>\n",
              "      <th>1 Ave &amp; E 16 St</th>\n",
              "      <td>2487</td>\n",
              "    </tr>\n",
              "    <tr>\n",
              "      <th>1 Ave &amp; E 18 St</th>\n",
              "      <td>2654</td>\n",
              "    </tr>\n",
              "    <tr>\n",
              "      <th>1 Ave &amp; E 30 St</th>\n",
              "      <td>1718</td>\n",
              "    </tr>\n",
              "    <tr>\n",
              "      <th>1 Ave &amp; E 39 St</th>\n",
              "      <td>2020</td>\n",
              "    </tr>\n",
              "    <tr>\n",
              "      <th>...</th>\n",
              "      <td>...</td>\n",
              "    </tr>\n",
              "    <tr>\n",
              "      <th>Wyckoff Av &amp; Stanhope St</th>\n",
              "      <td>600</td>\n",
              "    </tr>\n",
              "    <tr>\n",
              "      <th>Wyckoff Ave &amp; Gates Ave</th>\n",
              "      <td>573</td>\n",
              "    </tr>\n",
              "    <tr>\n",
              "      <th>Wyckoff St &amp; Nevins St</th>\n",
              "      <td>436</td>\n",
              "    </tr>\n",
              "    <tr>\n",
              "      <th>Wythe Ave &amp; Metropolitan Ave</th>\n",
              "      <td>2615</td>\n",
              "    </tr>\n",
              "    <tr>\n",
              "      <th>Yankee Ferry Terminal</th>\n",
              "      <td>549</td>\n",
              "    </tr>\n",
              "  </tbody>\n",
              "</table>\n",
              "<p>1689 rows × 1 columns</p>\n",
              "</div>"
            ],
            "text/plain": [
              "                              Count\n",
              "end_station_name                   \n",
              "1 Ave & E 110 St                780\n",
              "1 Ave & E 16 St                2487\n",
              "1 Ave & E 18 St                2654\n",
              "1 Ave & E 30 St                1718\n",
              "1 Ave & E 39 St                2020\n",
              "...                             ...\n",
              "Wyckoff Av & Stanhope St        600\n",
              "Wyckoff Ave & Gates Ave         573\n",
              "Wyckoff St & Nevins St          436\n",
              "Wythe Ave & Metropolitan Ave   2615\n",
              "Yankee Ferry Terminal           549\n",
              "\n",
              "[1689 rows x 1 columns]"
            ]
          },
          "execution_count": 43,
          "metadata": {},
          "output_type": "execute_result"
        }
      ],
      "source": [
        "no_of_rides_by_end_st = bike_data[['end_station_name', 'index']].groupby('end_station_name').count()\n",
        "no_of_rides_by_end_st.rename(columns = {'index':'Count'}, inplace = True)\n",
        "no_of_rides_by_end_st"
      ]
    },
    {
      "cell_type": "code",
      "execution_count": null,
      "metadata": {
        "colab": {
          "base_uri": "https://localhost:8080/",
          "height": 394
        },
        "id": "XDf3hpA0JVrh",
        "outputId": "bc245b5a-e424-4502-9e77-b165f1e24b82"
      },
      "outputs": [
        {
          "data": {
            "text/html": [
              "<div>\n",
              "<style scoped>\n",
              "    .dataframe tbody tr th:only-of-type {\n",
              "        vertical-align: middle;\n",
              "    }\n",
              "\n",
              "    .dataframe tbody tr th {\n",
              "        vertical-align: top;\n",
              "    }\n",
              "\n",
              "    .dataframe thead th {\n",
              "        text-align: right;\n",
              "    }\n",
              "</style>\n",
              "<table border=\"1\" class=\"dataframe\">\n",
              "  <thead>\n",
              "    <tr style=\"text-align: right;\">\n",
              "      <th></th>\n",
              "      <th>Count</th>\n",
              "    </tr>\n",
              "    <tr>\n",
              "      <th>end_station_name</th>\n",
              "      <th></th>\n",
              "    </tr>\n",
              "  </thead>\n",
              "  <tbody>\n",
              "    <tr>\n",
              "      <th>West St &amp; Chambers St</th>\n",
              "      <td>4925</td>\n",
              "    </tr>\n",
              "    <tr>\n",
              "      <th>W 21 St &amp; 6 Ave</th>\n",
              "      <td>4706</td>\n",
              "    </tr>\n",
              "    <tr>\n",
              "      <th>Broadway &amp; W 58 St</th>\n",
              "      <td>4118</td>\n",
              "    </tr>\n",
              "    <tr>\n",
              "      <th>6 Ave &amp; W 33 St</th>\n",
              "      <td>3979</td>\n",
              "    </tr>\n",
              "    <tr>\n",
              "      <th>1 Ave &amp; E 68 St</th>\n",
              "      <td>3883</td>\n",
              "    </tr>\n",
              "    <tr>\n",
              "      <th>12 Ave &amp; W 40 St</th>\n",
              "      <td>3812</td>\n",
              "    </tr>\n",
              "    <tr>\n",
              "      <th>Broadway &amp; E 14 St</th>\n",
              "      <td>3779</td>\n",
              "    </tr>\n",
              "    <tr>\n",
              "      <th>Central Park S &amp; 6 Ave</th>\n",
              "      <td>3745</td>\n",
              "    </tr>\n",
              "    <tr>\n",
              "      <th>Broadway &amp; W 25 St</th>\n",
              "      <td>3729</td>\n",
              "    </tr>\n",
              "    <tr>\n",
              "      <th>Broadway &amp; E 21 St</th>\n",
              "      <td>3626</td>\n",
              "    </tr>\n",
              "  </tbody>\n",
              "</table>\n",
              "</div>"
            ],
            "text/plain": [
              "                        Count\n",
              "end_station_name             \n",
              "West St & Chambers St    4925\n",
              "W 21 St & 6 Ave          4706\n",
              "Broadway & W 58 St       4118\n",
              "6 Ave & W 33 St          3979\n",
              "1 Ave & E 68 St          3883\n",
              "12 Ave & W 40 St         3812\n",
              "Broadway & E 14 St       3779\n",
              "Central Park S & 6 Ave   3745\n",
              "Broadway & W 25 St       3729\n",
              "Broadway & E 21 St       3626"
            ]
          },
          "execution_count": 44,
          "metadata": {},
          "output_type": "execute_result"
        }
      ],
      "source": [
        "end_stations = no_of_rides_by_end_st.sort_values(by=['Count'], ascending = False)\n",
        "end_stations = end_stations.head(10)\n",
        "end_stations"
      ]
    },
    {
      "cell_type": "code",
      "execution_count": null,
      "metadata": {
        "colab": {
          "base_uri": "https://localhost:8080/",
          "height": 645
        },
        "id": "4KTuLaLLJhke",
        "outputId": "5166c7d3-8679-4869-e5ed-44d92c471120"
      },
      "outputs": [
        {
          "data": {
            "text/plain": [
              "Text(0.5, 1.0, 'Most probable location for ending the Citi Bike ride')"
            ]
          },
          "execution_count": 45,
          "metadata": {},
          "output_type": "execute_result"
        },
        {
          "data": {
            "image/png": "[encoded data removed]",
            "text/plain": [
              "<Figure size 1080x720 with 1 Axes>"
            ]
          },
          "metadata": {},
          "output_type": "display_data"
        }
      ],
      "source": [
        "end_stations.plot.barh()\n",
        "plt.xlabel('No.of rides')\n",
        "plt.ylabel('Location')\n",
        "plt.title('Most probable location for ending the Citi Bike ride')"
      ]
    },
    {
      "cell_type": "code",
      "execution_count": null,
      "metadata": {
        "id": "uq4IHMR9Cr0m"
      },
      "outputs": [],
      "source": [
        "from sklearn.model_selection import train_test_split\n",
        "encod = {\"rideable_type\": {\"electric_bike\": 0, \"classic_bike\": 1, \"docked_bike\": 2}}\n",
        "encod1 = {\"member_casual\": {\"member\": 1, \"casual\": 0}}\n",
        "new_bike_df = bike_data.replace(encod)\n",
        "new_bike_df = new_bike_df.replace(encod1)\n",
        "new_bike_df[\"start_station_id\"] = new_bike_df[\"start_station_id\"].astype('category')\n",
        "new_bike_df[\"end_station_id\"] = new_bike_df[\"end_station_id\"].astype('category')\n",
        "new_bike_df[\"start_station_id_code\"] = new_bike_df[\"start_station_id\"].cat.codes\n",
        "new_bike_df[\"end_station_id_code\"] = new_bike_df[\"end_station_id\"].cat.codes"
      ]
    },
    {
      "cell_type": "code",
      "execution_count": null,
      "metadata": {
        "colab": {
          "base_uri": "https://localhost:8080/"
        },
        "id": "6bOOGIB2A4Xl",
        "outputId": "0593f72c-cb71-4b0b-d499-5422ae1c087f"
      },
      "outputs": [
        {
          "data": {
            "text/plain": [
              "index                             int64\n",
              "ride_id                          object\n",
              "rideable_type                     int64\n",
              "started_at               datetime64[ns]\n",
              "ended_at                 datetime64[ns]\n",
              "start_station_name               object\n",
              "start_station_id               category\n",
              "end_station_name                 object\n",
              "end_station_id                 category\n",
              "start_lat                       float64\n",
              "start_lng                       float64\n",
              "end_lat                         float64\n",
              "end_lng                         float64\n",
              "member_casual                     int64\n",
              "start_year                        int64\n",
              "start_month                       int64\n",
              "start_quarter                     int64\n",
              "start_day                         int64\n",
              "start_date                       object\n",
              "end_date                         object\n",
              "start_time                       object\n",
              "end_time                         object\n",
              "is_weekend                         bool\n",
              "ride_duration                   float64\n",
              "start_station_id_code             int16\n",
              "end_station_id_code               int16\n",
              "dtype: object"
            ]
          },
          "execution_count": 47,
          "metadata": {},
          "output_type": "execute_result"
        }
      ],
      "source": [
        "new_bike_df.dtypes"
      ]
    },
    {
      "cell_type": "code",
      "execution_count": null,
      "metadata": {
        "id": "CQCIVjpyAsVT"
      },
      "outputs": [],
      "source": [
        "X = new_bike_df.drop(['index', 'ride_id', 'started_at', 'ended_at', 'start_station_name', 'end_station_name', 'start_station_id', 'end_station_id','ride_duration', 'start_year','start_date', 'end_date', 'is_weekend', 'start_time', 'end_time'], axis=1)\n",
        "Y = new_bike_df.ride_duration"
      ]
    },
    {
      "cell_type": "code",
      "execution_count": null,
      "metadata": {
        "colab": {
          "base_uri": "https://localhost:8080/"
        },
        "id": "lYXet8sC-IwH",
        "outputId": "00e15daa-255b-49b7-9ee6-a9a026a29e10"
      },
      "outputs": [
        {
          "data": {
            "text/plain": [
              "index                             int64\n",
              "ride_id                          object\n",
              "rideable_type                     int64\n",
              "started_at               datetime64[ns]\n",
              "ended_at                 datetime64[ns]\n",
              "start_station_name               object\n",
              "start_station_id               category\n",
              "end_station_name                 object\n",
              "end_station_id                 category\n",
              "start_lat                       float64\n",
              "start_lng                       float64\n",
              "end_lat                         float64\n",
              "end_lng                         float64\n",
              "member_casual                     int64\n",
              "start_year                        int64\n",
              "start_month                       int64\n",
              "start_quarter                     int64\n",
              "start_day                         int64\n",
              "start_date                       object\n",
              "end_date                         object\n",
              "start_time                       object\n",
              "end_time                         object\n",
              "is_weekend                         bool\n",
              "ride_duration                   float64\n",
              "start_station_id_code             int16\n",
              "end_station_id_code               int16\n",
              "dtype: object"
            ]
          },
          "execution_count": 49,
          "metadata": {},
          "output_type": "execute_result"
        }
      ],
      "source": [
        "new_bike_df.dtypes"
      ]
    },
    {
      "cell_type": "code",
      "execution_count": null,
      "metadata": {
        "id": "tjqh_jmABeK2"
      },
      "outputs": [],
      "source": [
        "X_train, X_test, Y_train, Y_test = train_test_split(X, Y, test_size=0.2)"
      ]
    },
    {
      "cell_type": "code",
      "execution_count": null,
      "metadata": {
        "colab": {
          "base_uri": "https://localhost:8080/"
        },
        "id": "z8Rc24uJcbq2",
        "outputId": "932745ca-4f4a-4097-812a-2256625f7856"
      },
      "outputs": [
        {
          "data": {
            "text/plain": [
              "LinearRegression()"
            ]
          },
          "execution_count": 51,
          "metadata": {},
          "output_type": "execute_result"
        }
      ],
      "source": [
        "from sklearn import linear_model\n",
        "from sklearn.metrics import mean_squared_error, r2_score\n",
        "model = linear_model.LinearRegression()\n",
        "model.fit(X_train, Y_train)"
      ]
    },
    {
      "cell_type": "code",
      "execution_count": null,
      "metadata": {
        "id": "KT-nxichGfDJ"
      },
      "outputs": [],
      "source": [
        "Y_pred_train = model.predict(X_train)"
      ]
    },
    {
      "cell_type": "code",
      "execution_count": null,
      "metadata": {
        "colab": {
          "base_uri": "https://localhost:8080/"
        },
        "id": "qdSaLETHGjyl",
        "outputId": "f26d6650-7b5f-4feb-b966-97eba70a5ad2"
      },
      "outputs": [
        {
          "name": "stdout",
          "output_type": "stream",
          "text": [
            "Coefficients: [ 4.98481810e-01  1.84881395e+01 -7.62411115e+00 -1.39024902e+01\n",
            "  7.84343116e-01 -7.80786274e+00 -2.44881672e-02  5.02554496e-01\n",
            "  3.28173951e-01 -8.11106567e-06  6.21092481e-04]\n",
            "Intercept: -675.2514678363843\n",
            "Mean squared error (MSE): 197.13\n",
            "Coefficient of determination (R^2): 0.06\n"
          ]
        }
      ],
      "source": [
        "print('Coefficients:', model.coef_)\n",
        "print('Intercept:', model.intercept_)\n",
        "print('Mean squared error (MSE): %.2f'\n",
        "      % mean_squared_error(Y_train, Y_pred_train))\n",
        "print('Coefficient of determination (R^2): %.2f'\n",
        "      % r2_score(Y_train, Y_pred_train))"
      ]
    },
    {
      "cell_type": "code",
      "execution_count": null,
      "metadata": {
        "id": "Q-qnLhmmGx9B"
      },
      "outputs": [],
      "source": [
        "Y_pred_test = model.predict(X_test)"
      ]
    },
    {
      "cell_type": "code",
      "execution_count": null,
      "metadata": {
        "colab": {
          "base_uri": "https://localhost:8080/"
        },
        "id": "XWtpweV3G04S",
        "outputId": "72f851cc-81bf-45d7-956e-0fe744a5891f"
      },
      "outputs": [
        {
          "name": "stdout",
          "output_type": "stream",
          "text": [
            "Coefficients: [ 4.98481810e-01  1.84881395e+01 -7.62411115e+00 -1.39024902e+01\n",
            "  7.84343116e-01 -7.80786274e+00 -2.44881672e-02  5.02554496e-01\n",
            "  3.28173951e-01 -8.11106567e-06  6.21092481e-04]\n",
            "Intercept: -675.2514678363843\n",
            "Mean squared error (MSE): 195.69\n",
            "Coefficient of determination (R^2): 0.06\n"
          ]
        }
      ],
      "source": [
        "print('Coefficients:', model.coef_)\n",
        "print('Intercept:', model.intercept_)\n",
        "print('Mean squared error (MSE): %.2f'\n",
        "      % mean_squared_error(Y_test, Y_pred_test))\n",
        "print('Coefficient of determination (R^2): %.2f'\n",
        "      % r2_score(Y_test, Y_pred_test))"
      ]
    },
    {
      "cell_type": "code",
      "execution_count": null,
      "metadata": {
        "id": "TUxuLfWsT8Fy"
      },
      "outputs": [],
      "source": [
        "# pip install geopandas"
      ]
    },
    {
      "cell_type": "code",
      "execution_count": null,
      "metadata": {
        "id": "B3qwOBU_T-4c"
      },
      "outputs": [],
      "source": [
        "# import pandas as pd\n",
        "# import numpy as np\n",
        "# import geopandas as gpd\n",
        "# import folium\n",
        "# import datetime\n",
        "# folium.Map(location = [40.71958611647166, -74.0431174635887],\n",
        "#            tiles='cartodbpositron',\n",
        "#            zoom_start=12)"
      ]
    },
    {
      "cell_type": "code",
      "execution_count": null,
      "metadata": {
        "colab": {
          "base_uri": "https://localhost:8080/"
        },
        "id": "cnBrIwPIUIsr",
        "outputId": "0f7e331d-3a7d-411e-d144-5232fa1d4d3a"
      },
      "outputs": [
        {
          "data": {
            "text/plain": [
              "pandas._libs.tslibs.timestamps.Timestamp"
            ]
          },
          "execution_count": 58,
          "metadata": {},
          "output_type": "execute_result"
        }
      ],
      "source": [
        "type(bike_data.loc[0,'started_at'])"
      ]
    },
    {
      "cell_type": "code",
      "execution_count": null,
      "metadata": {
        "colab": {
          "base_uri": "https://localhost:8080/"
        },
        "id": "KMhZi1mxVnZw",
        "outputId": "7904237d-69a7-4a3b-b7f4-a7394eb8a1a4"
      },
      "outputs": [
        {
          "data": {
            "text/plain": [
              "index                          int64\n",
              "ride_id                       object\n",
              "rideable_type                 object\n",
              "started_at            datetime64[ns]\n",
              "ended_at              datetime64[ns]\n",
              "start_station_name            object\n",
              "start_station_id              object\n",
              "end_station_name              object\n",
              "end_station_id                object\n",
              "start_lat                    float64\n",
              "start_lng                    float64\n",
              "end_lat                      float64\n",
              "end_lng                      float64\n",
              "member_casual                 object\n",
              "start_year                     int64\n",
              "start_month                    int64\n",
              "start_quarter                  int64\n",
              "start_day                      int64\n",
              "start_date                    object\n",
              "end_date                      object\n",
              "start_time                    object\n",
              "end_time                      object\n",
              "is_weekend                      bool\n",
              "ride_duration                float64\n",
              "dtype: object"
            ]
          },
          "execution_count": 59,
          "metadata": {},
          "output_type": "execute_result"
        }
      ],
      "source": [
        "bike_data.dtypes"
      ]
    },
    {
      "cell_type": "code",
      "execution_count": null,
      "metadata": {
        "colab": {
          "base_uri": "https://localhost:8080/"
        },
        "id": "gxR_BAK_UdhV",
        "outputId": "abfcb1ce-2c2b-4be0-f091-36be967004bd"
      },
      "outputs": [
        {
          "name": "stderr",
          "output_type": "stream",
          "text": [
            "/tmp/ipykernel_144/3643415534.py:1: SettingWithCopyWarning: \n",
            "A value is trying to be set on a copy of a slice from a DataFrame.\n",
            "Try using .loc[row_indexer,col_indexer] = value instead\n",
            "\n",
            "See the caveats in the documentation: https://pandas.pydata.org/pandas-docs/stable/user_guide/indexing.html#returning-a-view-versus-a-copy\n",
            "  bike_data['hours'] = bike_data.started_at.dt.hour\n"
          ]
        }
      ],
      "source": [
        "bike_data['hours'] = bike_data.started_at.dt.hour"
      ]
    },
    {
      "cell_type": "code",
      "execution_count": null,
      "metadata": {
        "colab": {
          "base_uri": "https://localhost:8080/",
          "height": 473
        },
        "id": "P59H0juXXjw4",
        "outputId": "1aa1bc97-b567-4eb5-ee92-00b1e9e1ff83"
      },
      "outputs": [
        {
          "data": {
            "text/html": [
              "<div>\n",
              "<style scoped>\n",
              "    .dataframe tbody tr th:only-of-type {\n",
              "        vertical-align: middle;\n",
              "    }\n",
              "\n",
              "    .dataframe tbody tr th {\n",
              "        vertical-align: top;\n",
              "    }\n",
              "\n",
              "    .dataframe thead th {\n",
              "        text-align: right;\n",
              "    }\n",
              "</style>\n",
              "<table border=\"1\" class=\"dataframe\">\n",
              "  <thead>\n",
              "    <tr style=\"text-align: right;\">\n",
              "      <th></th>\n",
              "      <th>index</th>\n",
              "      <th>ride_id</th>\n",
              "      <th>rideable_type</th>\n",
              "      <th>started_at</th>\n",
              "      <th>ended_at</th>\n",
              "      <th>start_station_name</th>\n",
              "      <th>start_station_id</th>\n",
              "      <th>end_station_name</th>\n",
              "      <th>end_station_id</th>\n",
              "      <th>start_lat</th>\n",
              "      <th>...</th>\n",
              "      <th>start_month</th>\n",
              "      <th>start_quarter</th>\n",
              "      <th>start_day</th>\n",
              "      <th>start_date</th>\n",
              "      <th>end_date</th>\n",
              "      <th>start_time</th>\n",
              "      <th>end_time</th>\n",
              "      <th>is_weekend</th>\n",
              "      <th>ride_duration</th>\n",
              "      <th>hours</th>\n",
              "    </tr>\n",
              "  </thead>\n",
              "  <tbody>\n",
              "    <tr>\n",
              "      <th>1125299</th>\n",
              "      <td>1747028</td>\n",
              "      <td>9E990BD43E0EC3B5</td>\n",
              "      <td>electric_bike</td>\n",
              "      <td>2022-08-07 13:35:44</td>\n",
              "      <td>2022-08-07 13:36:04</td>\n",
              "      <td>E 9 St &amp; 5 Ave</td>\n",
              "      <td>5872.1</td>\n",
              "      <td>E 9 St &amp; 5 Ave</td>\n",
              "      <td>5872.10</td>\n",
              "      <td>40.732759</td>\n",
              "      <td>...</td>\n",
              "      <td>8</td>\n",
              "      <td>3</td>\n",
              "      <td>6</td>\n",
              "      <td>2022-08-07</td>\n",
              "      <td>2022-08-07</td>\n",
              "      <td>13:35:44</td>\n",
              "      <td>13:36:04</td>\n",
              "      <td>True</td>\n",
              "      <td>0.333333</td>\n",
              "      <td>13</td>\n",
              "    </tr>\n",
              "    <tr>\n",
              "      <th>1125300</th>\n",
              "      <td>843657</td>\n",
              "      <td>A0FD7115FC78067F</td>\n",
              "      <td>classic_bike</td>\n",
              "      <td>2022-07-26 19:00:22</td>\n",
              "      <td>2022-07-26 19:11:44</td>\n",
              "      <td>Clinton St &amp; Cherry St</td>\n",
              "      <td>5190.09</td>\n",
              "      <td>Market St &amp; Henry St</td>\n",
              "      <td>5270.09</td>\n",
              "      <td>40.711471</td>\n",
              "      <td>...</td>\n",
              "      <td>7</td>\n",
              "      <td>3</td>\n",
              "      <td>1</td>\n",
              "      <td>2022-07-26</td>\n",
              "      <td>2022-07-26</td>\n",
              "      <td>19:00:22</td>\n",
              "      <td>19:11:44</td>\n",
              "      <td>False</td>\n",
              "      <td>11.366667</td>\n",
              "      <td>19</td>\n",
              "    </tr>\n",
              "    <tr>\n",
              "      <th>1125301</th>\n",
              "      <td>759519</td>\n",
              "      <td>034AC20640B1E0B2</td>\n",
              "      <td>electric_bike</td>\n",
              "      <td>2022-07-08 22:08:18</td>\n",
              "      <td>2022-07-08 22:12:11</td>\n",
              "      <td>Southern Blvd &amp; Tiffany St</td>\n",
              "      <td>7867.04</td>\n",
              "      <td>Longfellow Ave &amp; E 165 St</td>\n",
              "      <td>7983.04</td>\n",
              "      <td>40.818185</td>\n",
              "      <td>...</td>\n",
              "      <td>7</td>\n",
              "      <td>3</td>\n",
              "      <td>4</td>\n",
              "      <td>2022-07-08</td>\n",
              "      <td>2022-07-08</td>\n",
              "      <td>22:08:18</td>\n",
              "      <td>22:12:11</td>\n",
              "      <td>False</td>\n",
              "      <td>3.883333</td>\n",
              "      <td>22</td>\n",
              "    </tr>\n",
              "    <tr>\n",
              "      <th>1125302</th>\n",
              "      <td>1538418</td>\n",
              "      <td>FC763FC70AE2040D</td>\n",
              "      <td>classic_bike</td>\n",
              "      <td>2022-08-16 08:05:42</td>\n",
              "      <td>2022-08-16 08:08:47</td>\n",
              "      <td>N 15 St &amp; Wythe Ave</td>\n",
              "      <td>5520.09</td>\n",
              "      <td>Huron St &amp; Franklin St</td>\n",
              "      <td>5869.04</td>\n",
              "      <td>40.724112</td>\n",
              "      <td>...</td>\n",
              "      <td>8</td>\n",
              "      <td>3</td>\n",
              "      <td>1</td>\n",
              "      <td>2022-08-16</td>\n",
              "      <td>2022-08-16</td>\n",
              "      <td>08:05:42</td>\n",
              "      <td>08:08:47</td>\n",
              "      <td>False</td>\n",
              "      <td>3.083333</td>\n",
              "      <td>8</td>\n",
              "    </tr>\n",
              "    <tr>\n",
              "      <th>1125303</th>\n",
              "      <td>1260144</td>\n",
              "      <td>463F320E6F58BDED</td>\n",
              "      <td>electric_bike</td>\n",
              "      <td>2022-07-25 16:03:06</td>\n",
              "      <td>2022-07-25 16:11:24</td>\n",
              "      <td>Parade Pl &amp; Crooke Ave</td>\n",
              "      <td>3376.02</td>\n",
              "      <td>Prospect Park SW &amp; 10 Ave</td>\n",
              "      <td>3611.02</td>\n",
              "      <td>40.651847</td>\n",
              "      <td>...</td>\n",
              "      <td>7</td>\n",
              "      <td>3</td>\n",
              "      <td>0</td>\n",
              "      <td>2022-07-25</td>\n",
              "      <td>2022-07-25</td>\n",
              "      <td>16:03:06</td>\n",
              "      <td>16:11:24</td>\n",
              "      <td>False</td>\n",
              "      <td>8.300000</td>\n",
              "      <td>16</td>\n",
              "    </tr>\n",
              "  </tbody>\n",
              "</table>\n",
              "<p>5 rows × 25 columns</p>\n",
              "</div>"
            ],
            "text/plain": [
              "           index           ride_id  rideable_type          started_at  \\\n",
              "1125299  1747028  9E990BD43E0EC3B5  electric_bike 2022-08-07 13:35:44   \n",
              "1125300   843657  A0FD7115FC78067F   classic_bike 2022-07-26 19:00:22   \n",
              "1125301   759519  034AC20640B1E0B2  electric_bike 2022-07-08 22:08:18   \n",
              "1125302  1538418  FC763FC70AE2040D   classic_bike 2022-08-16 08:05:42   \n",
              "1125303  1260144  463F320E6F58BDED  electric_bike 2022-07-25 16:03:06   \n",
              "\n",
              "                   ended_at          start_station_name start_station_id  \\\n",
              "1125299 2022-08-07 13:36:04              E 9 St & 5 Ave           5872.1   \n",
              "1125300 2022-07-26 19:11:44      Clinton St & Cherry St          5190.09   \n",
              "1125301 2022-07-08 22:12:11  Southern Blvd & Tiffany St          7867.04   \n",
              "1125302 2022-08-16 08:08:47         N 15 St & Wythe Ave          5520.09   \n",
              "1125303 2022-07-25 16:11:24      Parade Pl & Crooke Ave          3376.02   \n",
              "\n",
              "                  end_station_name end_station_id  start_lat  ...  \\\n",
              "1125299             E 9 St & 5 Ave        5872.10  40.732759  ...   \n",
              "1125300       Market St & Henry St        5270.09  40.711471  ...   \n",
              "1125301  Longfellow Ave & E 165 St        7983.04  40.818185  ...   \n",
              "1125302     Huron St & Franklin St        5869.04  40.724112  ...   \n",
              "1125303  Prospect Park SW & 10 Ave        3611.02  40.651847  ...   \n",
              "\n",
              "         start_month  start_quarter  start_day  start_date    end_date  \\\n",
              "1125299            8              3          6  2022-08-07  2022-08-07   \n",
              "1125300            7              3          1  2022-07-26  2022-07-26   \n",
              "1125301            7              3          4  2022-07-08  2022-07-08   \n",
              "1125302            8              3          1  2022-08-16  2022-08-16   \n",
              "1125303            7              3          0  2022-07-25  2022-07-25   \n",
              "\n",
              "         start_time  end_time  is_weekend ride_duration hours  \n",
              "1125299    13:35:44  13:36:04        True      0.333333    13  \n",
              "1125300    19:00:22  19:11:44       False     11.366667    19  \n",
              "1125301    22:08:18  22:12:11       False      3.883333    22  \n",
              "1125302    08:05:42  08:08:47       False      3.083333     8  \n",
              "1125303    16:03:06  16:11:24       False      8.300000    16  \n",
              "\n",
              "[5 rows x 25 columns]"
            ]
          },
          "execution_count": 61,
          "metadata": {},
          "output_type": "execute_result"
        }
      ],
      "source": [
        "bike_data.tail()"
      ]
    },
    {
      "cell_type": "code",
      "execution_count": null,
      "metadata": {
        "colab": {
          "base_uri": "https://localhost:8080/",
          "height": 690
        },
        "id": "Tb7ar8Yi28Wa",
        "outputId": "43ecf376-fc52-43e5-9eb0-ad2dcc86b3e5"
      },
      "outputs": [
        {
          "name": "stderr",
          "output_type": "stream",
          "text": [
            "/opt/conda/lib/python3.9/site-packages/seaborn/_decorators.py:36: FutureWarning: Pass the following variables as keyword args: x, y. From version 0.12, the only valid positional argument will be `data`, and passing other arguments without an explicit keyword will result in an error or misinterpretation.\n",
            "  warnings.warn(\n"
          ]
        }
      ],
      "source": [
        "#Identify the 10 most popular trips\n",
        "trips_df = pd.DataFrame()\n",
        "#trips_df[\"Trip\"] = trips_df[\"start_station_name\"] + \" to \" + trips_df[\"end_station_name\"]\n",
        "#trips_df1 = trips_df.groupby('Trip').count().reset_index(name = 'Number of Trips')\n",
        "trips_df = bike_data.groupby(['start_station_name','end_station_name']).size().reset_index(name = 'Number of Trips')\n",
        "trips_df = trips_df.sort_values('Number of Trips', ascending = False)\n",
        "trips_df[\"start_station_name\"] = trips_df[\"start_station_name\"].astype(str)\n",
        "trips_df[\"end_station_name\"] = trips_df[\"end_station_name\"].astype(str)\n",
        "trips_df[\"Trip\"] = trips_df[\"start_station_name\"] + \" to \" + trips_df[\"end_station_name\"]\n",
        "trips_df = trips_df[:10]\n",
        "trips_df = trips_df.drop(['start_station_name', \"end_station_name\"], axis = 1)\n",
        "trips_df = trips_df.reset_index()\n",
        "#trips_df.head()\n",
        "import seaborn as sns\n",
        "sns.set(rc={'figure.figsize':(15,10)})\n",
        "ax4 = sns.barplot('Number of Trips','Trip', data = trips_df, palette=\"GnBu_d\")\n",
        "ax4.set_title('Most Popular Trips', fontsize = 20)\n",
        "ax4.set_ylabel(\"Trip\",fontsize=16)\n",
        "ax4.set_xlabel(\"Number of Trips\",fontsize=16)\n",
        "ax4.set_yticklabels(['10', '9', '8', '7', '6', '5', '4', '3', '2', '1'])\n",
        "\n",
        "for index, row in trips_df.iterrows():\n",
        "    ax4.text(row['Number of Trips']-220,index,row['Number of Trips'], \n",
        "             color='white',fontsize = 10)\n",
        "\n",
        "plt.savefig('horizontal_bar.pdf')\n",
        "plt.show()"
      ]
    },
    {
      "cell_type": "code",
      "execution_count": null,
      "metadata": {
        "colab": {
          "base_uri": "https://localhost:8080/"
        },
        "id": "qakvFkDj-j5t",
        "outputId": "1f46b277-732b-4f25-9004-19673f4a044c"
      },
      "outputs": [
        {
          "name": "stderr",
          "output_type": "stream",
          "text": [
            "/tmp/ipykernel_144/491965210.py:3: SettingWithCopyWarning: \n",
            "A value is trying to be set on a copy of a slice from a DataFrame.\n",
            "Try using .loc[row_indexer,col_indexer] = value instead\n",
            "\n",
            "See the caveats in the documentation: https://pandas.pydata.org/pandas-docs/stable/user_guide/indexing.html#returning-a-view-versus-a-copy\n",
            "  bike_data[\"hour_bins\"] = pd.cut(\n"
          ]
        }
      ],
      "source": [
        "import numpy as np\n",
        "\n",
        "bike_data[\"hour_bins\"] = pd.cut(\n",
        "    x= bike_data[\"hours\"],\n",
        "    bins= [0, 8, 18, np.inf],\n",
        "    labels=[\"12am to 8am\", \"8am to 6pm\", \"6pm to 12am\"],\n",
        ")"
      ]
    },
    {
      "cell_type": "code",
      "execution_count": null,
      "metadata": {
        "id": "PNLNHM0qbYNd"
      },
      "outputs": [],
      "source": [
        "# import pandas as pd\n",
        "# import numpy as np\n",
        "# import geopandas as gpd\n",
        "# import folium\n",
        "# import datetime\n",
        "# folium.Map(location = [40.71958611647166, -74.0431174635887],\n",
        "#            tiles='cartodbpositron',\n",
        "#            zoom_start=12)"
      ]
    },
    {
      "cell_type": "code",
      "execution_count": null,
      "metadata": {
        "colab": {
          "base_uri": "https://localhost:8080/",
          "height": 424
        },
        "id": "jpdV-KONdeQN",
        "outputId": "5e0d46cc-4993-4afa-936b-03dc0eb339e0"
      },
      "outputs": [
        {
          "data": {
            "text/html": [
              "<div>\n",
              "<style scoped>\n",
              "    .dataframe tbody tr th:only-of-type {\n",
              "        vertical-align: middle;\n",
              "    }\n",
              "\n",
              "    .dataframe tbody tr th {\n",
              "        vertical-align: top;\n",
              "    }\n",
              "\n",
              "    .dataframe thead th {\n",
              "        text-align: right;\n",
              "    }\n",
              "</style>\n",
              "<table border=\"1\" class=\"dataframe\">\n",
              "  <thead>\n",
              "    <tr style=\"text-align: right;\">\n",
              "      <th></th>\n",
              "      <th>start_lat</th>\n",
              "      <th>start_lng</th>\n",
              "      <th>hour_bins</th>\n",
              "    </tr>\n",
              "  </thead>\n",
              "  <tbody>\n",
              "    <tr>\n",
              "      <th>0</th>\n",
              "      <td>40.771639</td>\n",
              "      <td>-73.982614</td>\n",
              "      <td>8am to 6pm</td>\n",
              "    </tr>\n",
              "    <tr>\n",
              "      <th>1</th>\n",
              "      <td>40.644862</td>\n",
              "      <td>-74.014531</td>\n",
              "      <td>6pm to 12am</td>\n",
              "    </tr>\n",
              "    <tr>\n",
              "      <th>2</th>\n",
              "      <td>40.689541</td>\n",
              "      <td>-73.983084</td>\n",
              "      <td>12am to 8am</td>\n",
              "    </tr>\n",
              "    <tr>\n",
              "      <th>3</th>\n",
              "      <td>40.805973</td>\n",
              "      <td>-73.964928</td>\n",
              "      <td>8am to 6pm</td>\n",
              "    </tr>\n",
              "    <tr>\n",
              "      <th>4</th>\n",
              "      <td>40.775655</td>\n",
              "      <td>-73.950686</td>\n",
              "      <td>8am to 6pm</td>\n",
              "    </tr>\n",
              "    <tr>\n",
              "      <th>...</th>\n",
              "      <td>...</td>\n",
              "      <td>...</td>\n",
              "      <td>...</td>\n",
              "    </tr>\n",
              "    <tr>\n",
              "      <th>1125299</th>\n",
              "      <td>40.732759</td>\n",
              "      <td>-73.995817</td>\n",
              "      <td>8am to 6pm</td>\n",
              "    </tr>\n",
              "    <tr>\n",
              "      <th>1125300</th>\n",
              "      <td>40.711471</td>\n",
              "      <td>-73.986726</td>\n",
              "      <td>6pm to 12am</td>\n",
              "    </tr>\n",
              "    <tr>\n",
              "      <th>1125301</th>\n",
              "      <td>40.818185</td>\n",
              "      <td>-73.894143</td>\n",
              "      <td>6pm to 12am</td>\n",
              "    </tr>\n",
              "    <tr>\n",
              "      <th>1125302</th>\n",
              "      <td>40.724112</td>\n",
              "      <td>-73.955865</td>\n",
              "      <td>12am to 8am</td>\n",
              "    </tr>\n",
              "    <tr>\n",
              "      <th>1125303</th>\n",
              "      <td>40.651847</td>\n",
              "      <td>-73.965248</td>\n",
              "      <td>8am to 6pm</td>\n",
              "    </tr>\n",
              "  </tbody>\n",
              "</table>\n",
              "<p>1120310 rows × 3 columns</p>\n",
              "</div>"
            ],
            "text/plain": [
              "         start_lat  start_lng    hour_bins\n",
              "0        40.771639 -73.982614   8am to 6pm\n",
              "1        40.644862 -74.014531  6pm to 12am\n",
              "2        40.689541 -73.983084  12am to 8am\n",
              "3        40.805973 -73.964928   8am to 6pm\n",
              "4        40.775655 -73.950686   8am to 6pm\n",
              "...            ...        ...          ...\n",
              "1125299  40.732759 -73.995817   8am to 6pm\n",
              "1125300  40.711471 -73.986726  6pm to 12am\n",
              "1125301  40.818185 -73.894143  6pm to 12am\n",
              "1125302  40.724112 -73.955865  12am to 8am\n",
              "1125303  40.651847 -73.965248   8am to 6pm\n",
              "\n",
              "[1120310 rows x 3 columns]"
            ]
          },
          "execution_count": 65,
          "metadata": {},
          "output_type": "execute_result"
        }
      ],
      "source": [
        "bike_data_hourly = bike_data[[\"start_lat\", \"start_lng\", \"hour_bins\"]]\n",
        "bike_data_hourly"
      ]
    },
    {
      "cell_type": "code",
      "execution_count": null,
      "metadata": {
        "id": "UxUKpNQGXn7B"
      },
      "outputs": [],
      "source": [
        "top10_start_stations = []\n",
        "\n",
        "\n",
        "start_stations = start_stations.reset_index()\n",
        "#start_stations['start_station_name']\n",
        "\n",
        "for values in start_stations['start_station_name']:\n",
        "  top10_start_stations.append(values)\n",
        "\n",
        "#top10_start_stations\n",
        "bike_data_top10_starts = bike_data.loc[bike_data['start_station_name'].isin(top10_start_stations)]"
      ]
    },
    {
      "cell_type": "code",
      "execution_count": null,
      "metadata": {
        "colab": {
          "base_uri": "https://localhost:8080/"
        },
        "id": "7K9OEmv7b9gv",
        "outputId": "21b36b19-df59-4678-d468-f0032681d531"
      },
      "outputs": [
        {
          "name": "stdout",
          "output_type": "stream",
          "text": [
            "<class 'pandas.core.frame.DataFrame'>\n",
            "Int64Index: 40250 entries, 17 to 1125267\n",
            "Data columns (total 26 columns):\n",
            " #   Column              Non-Null Count  Dtype         \n",
            "---  ------              --------------  -----         \n",
            " 0   index               40250 non-null  int64         \n",
            " 1   ride_id             40250 non-null  object        \n",
            " 2   rideable_type       40250 non-null  object        \n",
            " 3   started_at          40250 non-null  datetime64[ns]\n",
            " 4   ended_at            40250 non-null  datetime64[ns]\n",
            " 5   start_station_name  40250 non-null  object        \n",
            " 6   start_station_id    40250 non-null  object        \n",
            " 7   end_station_name    40250 non-null  object        \n",
            " 8   end_station_id      40250 non-null  object        \n",
            " 9   start_lat           40250 non-null  float64       \n",
            " 10  start_lng           40250 non-null  float64       \n",
            " 11  end_lat             40250 non-null  float64       \n",
            " 12  end_lng             40250 non-null  float64       \n",
            " 13  member_casual       40250 non-null  object        \n",
            " 14  start_year          40250 non-null  int64         \n",
            " 15  start_month         40250 non-null  int64         \n",
            " 16  start_quarter       40250 non-null  int64         \n",
            " 17  start_day           40250 non-null  int64         \n",
            " 18  start_date          40250 non-null  object        \n",
            " 19  end_date            40250 non-null  object        \n",
            " 20  start_time          40250 non-null  object        \n",
            " 21  end_time            40250 non-null  object        \n",
            " 22  is_weekend          40250 non-null  bool          \n",
            " 23  ride_duration       40250 non-null  float64       \n",
            " 24  hours               40250 non-null  int64         \n",
            " 25  hour_bins           39882 non-null  category      \n",
            "dtypes: bool(1), category(1), datetime64[ns](2), float64(5), int64(6), object(11)\n",
            "memory usage: 7.8+ MB\n"
          ]
        }
      ],
      "source": [
        "bike_data_top10_starts.info()"
      ]
    },
    {
      "cell_type": "code",
      "execution_count": null,
      "metadata": {
        "colab": {
          "base_uri": "https://localhost:8080/"
        },
        "id": "8LzUWZgmcS7b",
        "outputId": "6b52abe7-925a-47b1-c807-17d427ca4863"
      },
      "outputs": [
        {
          "name": "stdout",
          "output_type": "stream",
          "text": [
            "<class 'pandas.core.frame.DataFrame'>\n",
            "Int64Index: 157170 entries, 2 to 1125302\n",
            "Data columns (total 26 columns):\n",
            " #   Column              Non-Null Count   Dtype         \n",
            "---  ------              --------------   -----         \n",
            " 0   index               157170 non-null  int64         \n",
            " 1   ride_id             157170 non-null  object        \n",
            " 2   rideable_type       157170 non-null  object        \n",
            " 3   started_at          157170 non-null  datetime64[ns]\n",
            " 4   ended_at            157170 non-null  datetime64[ns]\n",
            " 5   start_station_name  157170 non-null  object        \n",
            " 6   start_station_id    157170 non-null  object        \n",
            " 7   end_station_name    157170 non-null  object        \n",
            " 8   end_station_id      157170 non-null  object        \n",
            " 9   start_lat           157170 non-null  float64       \n",
            " 10  start_lng           157170 non-null  float64       \n",
            " 11  end_lat             157170 non-null  float64       \n",
            " 12  end_lng             157170 non-null  float64       \n",
            " 13  member_casual       157170 non-null  object        \n",
            " 14  start_year          157170 non-null  int64         \n",
            " 15  start_month         157170 non-null  int64         \n",
            " 16  start_quarter       157170 non-null  int64         \n",
            " 17  start_day           157170 non-null  int64         \n",
            " 18  start_date          157170 non-null  object        \n",
            " 19  end_date            157170 non-null  object        \n",
            " 20  start_time          157170 non-null  object        \n",
            " 21  end_time            157170 non-null  object        \n",
            " 22  is_weekend          157170 non-null  bool          \n",
            " 23  ride_duration       157170 non-null  float64       \n",
            " 24  hours               157170 non-null  int64         \n",
            " 25  hour_bins           157170 non-null  category      \n",
            "dtypes: bool(1), category(1), datetime64[ns](2), float64(5), int64(6), object(11)\n",
            "memory usage: 30.3+ MB\n"
          ]
        }
      ],
      "source": [
        "bike_data_top10_starts_12to8 = bike_data.loc[bike_data['hour_bins'] == '12am to 8am']\n",
        "bike_data_top10_starts_12to8.info()"
      ]
    },
    {
      "cell_type": "code",
      "execution_count": null,
      "metadata": {
        "colab": {
          "base_uri": "https://localhost:8080/"
        },
        "id": "HFfGb55DcTRC",
        "outputId": "9d79a98a-9b14-4fca-f1f8-a15ea4f5aeb4"
      },
      "outputs": [
        {
          "name": "stdout",
          "output_type": "stream",
          "text": [
            "<class 'pandas.core.frame.DataFrame'>\n",
            "Int64Index: 719661 entries, 0 to 1125303\n",
            "Data columns (total 26 columns):\n",
            " #   Column              Non-Null Count   Dtype         \n",
            "---  ------              --------------   -----         \n",
            " 0   index               719661 non-null  int64         \n",
            " 1   ride_id             719661 non-null  object        \n",
            " 2   rideable_type       719661 non-null  object        \n",
            " 3   started_at          719661 non-null  datetime64[ns]\n",
            " 4   ended_at            719661 non-null  datetime64[ns]\n",
            " 5   start_station_name  719661 non-null  object        \n",
            " 6   start_station_id    719661 non-null  object        \n",
            " 7   end_station_name    719661 non-null  object        \n",
            " 8   end_station_id      719661 non-null  object        \n",
            " 9   start_lat           719661 non-null  float64       \n",
            " 10  start_lng           719661 non-null  float64       \n",
            " 11  end_lat             719661 non-null  float64       \n",
            " 12  end_lng             719661 non-null  float64       \n",
            " 13  member_casual       719661 non-null  object        \n",
            " 14  start_year          719661 non-null  int64         \n",
            " 15  start_month         719661 non-null  int64         \n",
            " 16  start_quarter       719661 non-null  int64         \n",
            " 17  start_day           719661 non-null  int64         \n",
            " 18  start_date          719661 non-null  object        \n",
            " 19  end_date            719661 non-null  object        \n",
            " 20  start_time          719661 non-null  object        \n",
            " 21  end_time            719661 non-null  object        \n",
            " 22  is_weekend          719661 non-null  bool          \n",
            " 23  ride_duration       719661 non-null  float64       \n",
            " 24  hours               719661 non-null  int64         \n",
            " 25  hour_bins           719661 non-null  category      \n",
            "dtypes: bool(1), category(1), datetime64[ns](2), float64(5), int64(6), object(11)\n",
            "memory usage: 138.6+ MB\n"
          ]
        }
      ],
      "source": [
        "bike_data_top10_starts_8to6 = bike_data.loc[bike_data['hour_bins'] == '8am to 6pm']\n",
        "bike_data_top10_starts_8to6.info()"
      ]
    },
    {
      "cell_type": "code",
      "execution_count": null,
      "metadata": {
        "colab": {
          "base_uri": "https://localhost:8080/"
        },
        "id": "Th5qt0QjcTYL",
        "outputId": "449189ee-58c3-4b37-c410-ee3d3821afee"
      },
      "outputs": [
        {
          "name": "stdout",
          "output_type": "stream",
          "text": [
            "<class 'pandas.core.frame.DataFrame'>\n",
            "Int64Index: 227481 entries, 1 to 1125301\n",
            "Data columns (total 26 columns):\n",
            " #   Column              Non-Null Count   Dtype         \n",
            "---  ------              --------------   -----         \n",
            " 0   index               227481 non-null  int64         \n",
            " 1   ride_id             227481 non-null  object        \n",
            " 2   rideable_type       227481 non-null  object        \n",
            " 3   started_at          227481 non-null  datetime64[ns]\n",
            " 4   ended_at            227481 non-null  datetime64[ns]\n",
            " 5   start_station_name  227481 non-null  object        \n",
            " 6   start_station_id    227481 non-null  object        \n",
            " 7   end_station_name    227481 non-null  object        \n",
            " 8   end_station_id      227481 non-null  object        \n",
            " 9   start_lat           227481 non-null  float64       \n",
            " 10  start_lng           227481 non-null  float64       \n",
            " 11  end_lat             227481 non-null  float64       \n",
            " 12  end_lng             227481 non-null  float64       \n",
            " 13  member_casual       227481 non-null  object        \n",
            " 14  start_year          227481 non-null  int64         \n",
            " 15  start_month         227481 non-null  int64         \n",
            " 16  start_quarter       227481 non-null  int64         \n",
            " 17  start_day           227481 non-null  int64         \n",
            " 18  start_date          227481 non-null  object        \n",
            " 19  end_date            227481 non-null  object        \n",
            " 20  start_time          227481 non-null  object        \n",
            " 21  end_time            227481 non-null  object        \n",
            " 22  is_weekend          227481 non-null  bool          \n",
            " 23  ride_duration       227481 non-null  float64       \n",
            " 24  hours               227481 non-null  int64         \n",
            " 25  hour_bins           227481 non-null  category      \n",
            "dtypes: bool(1), category(1), datetime64[ns](2), float64(5), int64(6), object(11)\n",
            "memory usage: 43.8+ MB\n"
          ]
        }
      ],
      "source": [
        "bike_data_top10_starts_6to12 = bike_data.loc[bike_data['hour_bins'] == '6pm to 12am']\n",
        "bike_data_top10_starts_6to12.info()"
      ]
    },
    {
      "cell_type": "code",
      "execution_count": null,
      "metadata": {
        "colab": {
          "base_uri": "https://localhost:8080/"
        },
        "id": "X-UlZwkisVth",
        "outputId": "c2e123d0-9d5d-4a09-af68-599cf97f94af"
      },
      "outputs": [
        {
          "name": "stdout",
          "output_type": "stream",
          "text": [
            "<class 'pandas.core.frame.DataFrame'>\n",
            "Int64Index: 61486 entries, 0 to 1125289\n",
            "Data columns (total 26 columns):\n",
            " #   Column              Non-Null Count  Dtype         \n",
            "---  ------              --------------  -----         \n",
            " 0   index               61486 non-null  int64         \n",
            " 1   ride_id             61486 non-null  object        \n",
            " 2   rideable_type       61486 non-null  object        \n",
            " 3   started_at          61486 non-null  datetime64[ns]\n",
            " 4   ended_at            61486 non-null  datetime64[ns]\n",
            " 5   start_station_name  61486 non-null  object        \n",
            " 6   start_station_id    61486 non-null  object        \n",
            " 7   end_station_name    61486 non-null  object        \n",
            " 8   end_station_id      61486 non-null  object        \n",
            " 9   start_lat           61486 non-null  float64       \n",
            " 10  start_lng           61486 non-null  float64       \n",
            " 11  end_lat             61486 non-null  float64       \n",
            " 12  end_lng             61486 non-null  float64       \n",
            " 13  member_casual       61486 non-null  object        \n",
            " 14  start_year          61486 non-null  int64         \n",
            " 15  start_month         61486 non-null  int64         \n",
            " 16  start_quarter       61486 non-null  int64         \n",
            " 17  start_day           61486 non-null  int64         \n",
            " 18  start_date          61486 non-null  object        \n",
            " 19  end_date            61486 non-null  object        \n",
            " 20  start_time          61486 non-null  object        \n",
            " 21  end_time            61486 non-null  object        \n",
            " 22  is_weekend          61486 non-null  bool          \n",
            " 23  ride_duration       61486 non-null  float64       \n",
            " 24  hours               61486 non-null  int64         \n",
            " 25  hour_bins           60844 non-null  category      \n",
            "dtypes: bool(1), category(1), datetime64[ns](2), float64(5), int64(6), object(11)\n",
            "memory usage: 11.8+ MB\n"
          ]
        }
      ],
      "source": [
        "bike_data_feb = bike_data.loc[bike_data['start_month'] == 2]\n",
        "bike_data_feb.info()"
      ]
    },
    {
      "cell_type": "code",
      "execution_count": null,
      "metadata": {
        "id": "Qanw7RyCdeXV"
      },
      "outputs": [],
      "source": [
        "# fig = px.scatter_mapbox(bike_data_top10_starts_12to8, \n",
        "#                         lat=\"start_lat\", \n",
        "#                         lon=\"start_lng\", \n",
        "#                         #hover_name=\"start_station_name\", \n",
        "#                         #hover_data=[\"start_station_name\", \"hours\"],\n",
        "#                         color=\"start_station_name\",\n",
        "#                         #color_continuous_scale=color_scale,\n",
        "#                         zoom=8, \n",
        "#                         #height=800,width=800\n",
        "#                         )\n",
        "\n",
        "# fig.update_layout(mapbox_style=\"carto-positron\")\n",
        "# fig.update_layout(margin={\"r\":0,\"t\":0,\"l\":0,\"b\":0})\n",
        "# fig.show()"
      ]
    },
    {
      "cell_type": "code",
      "execution_count": null,
      "metadata": {
        "id": "Bd61CrQrffBU"
      },
      "outputs": [],
      "source": [
        "# fig = px.scatter_mapbox(bike_data_top10_starts_8to6, \n",
        "#                         lat=\"start_lat\", \n",
        "#                         lon=\"start_lng\", \n",
        "#                         #hover_name=\"start_station_name\", \n",
        "#                         #hover_data=[\"start_station_name\", \"hours\"],\n",
        "#                         color=\"start_station_name\",\n",
        "#                         #color_continuous_scale=color_scale,\n",
        "#                         zoom=8, \n",
        "#                         #height=800,width=800\n",
        "#                         )\n",
        "\n",
        "# fig.update_layout(mapbox_style=\"carto-positron\")\n",
        "# fig.update_layout(margin={\"r\":0,\"t\":0,\"l\":0,\"b\":0})\n",
        "# fig.show()"
      ]
    },
    {
      "cell_type": "code",
      "execution_count": null,
      "metadata": {
        "id": "0YQNtz0dj5Az"
      },
      "outputs": [],
      "source": [
        "bike_data.info()"
      ]
    },
    {
      "cell_type": "code",
      "execution_count": null,
      "metadata": {
        "id": "XeDgVXrYjwpY"
      },
      "outputs": [],
      "source": [
        "# Build a table containing the stations - one observation per station\n",
        "start_station = bike_data_feb.iloc[:,[5, 6, 9, 10]] # Keep only required variables\n",
        "start_station.index = start_station['start_station_id'] # Index by start station id\n",
        "start_station = start_station.drop_duplicates() # Keep only one row per station\n",
        "\n",
        "# Compute trip counts and mean trip duration for each start station and add to table\n",
        "count_start_station = bike_data_feb.groupby('start_station_id')['start_station_id'].count()\n",
        "mean_start_station = bike_data_feb.groupby('start_station_id')['ride_duration'].mean()\n",
        "start_station['trip_count'] = count_start_station\n",
        "start_station['mean_duration'] = mean_start_station"
      ]
    },
    {
      "cell_type": "code",
      "execution_count": null,
      "metadata": {
        "id": "mRTXy03OlspV"
      },
      "outputs": [],
      "source": [
        "start_station"
      ]
    },
    {
      "cell_type": "code",
      "execution_count": null,
      "metadata": {
        "colab": {
          "base_uri": "https://localhost:8080/",
          "height": 355
        },
        "id": "76s6Ti4KzYow",
        "outputId": "8a62b013-a5c6-4c8b-ae0d-2330732da131"
      },
      "outputs": [
        {
          "data": {
            "image/png": "[encoded data removed]",
            "text/plain": [
              "<Figure size 36x2160 with 1 Axes>"
            ]
          },
          "metadata": {},
          "output_type": "display_data"
        }
      ],
      "source": [
        "# Make a color scale bar\n",
        "plt.rcParams.update({'font.size': 14})\n",
        "fig = plt.figure(figsize = (.5, 30))\n",
        "ax1 = fig.add_axes([0.05, 0.80, 0.9, 0.15])\n",
        "\n",
        "# Set the colormap and norm to correspond to the data\n",
        "cmap = mpl.cm.YlOrRd\n",
        "norm = mpl.colors.Normalize(start_station['trip_count'].min(), start_station['trip_count'].max())\n",
        "\n",
        "cb1 = mpl.colorbar.ColorbarBase(ax1, cmap = cmap, norm = norm, orientation = 'vertical')\n",
        "cb1.set_label('Trip counts')"
      ]
    },
    {
      "cell_type": "code",
      "execution_count": null,
      "metadata": {
        "colab": {
          "base_uri": "https://localhost:8080/",
          "height": 668
        },
        "id": "kGAQU8aHlgI2",
        "outputId": "b8b8a03e-f258-4584-d9af-c4cc1ccdfcd5"
      },
      "outputs": [
        {
          "data": {
            "image/png": "[encoded data removed]",
            "text/plain": [
              "<Figure size 1080x720 with 1 Axes>"
            ]
          },
          "metadata": {},
          "output_type": "display_data"
        }
      ],
      "source": [
        "# Collect all trips shorter than 1 hour\n",
        "duration_mins = bike_data.loc[(bike_data.ride_duration < 60)][['ride_duration']]\n",
        "duration_mins = duration_mins.loc[(duration_mins.ride_duration > 0)][['ride_duration']]\n",
        "#duration_mins = duration_mins # In minutes\n",
        "\n",
        "# Plot the distribution of trip durations\n",
        "plt.rcParams.update({'font.size': 16})\n",
        "colors = sns.color_palette(\"crest\")\n",
        "g = sns.histplot(data = duration_mins , bins = 15, palette= \"GnBu_d\")\n",
        "plt.tick_params(axis = 'both', which = 'major', labelsize = 18)\n",
        "plt.title('Distribution of trip durations\\n')\n",
        "plt.xlabel('Duration (min.)')\n",
        "plt.ylabel('Trip counts')\n",
        "plt.legend(['Ride Duration'])\n",
        "#g.set_xticklabels([' ','0', '20', '30', '40', '50', '60'])\n",
        "plt.savefig('RideDurationhour.pdf')\n",
        "#bins = 15, alpha = 0.5, ,color = colors"
      ]
    },
    {
      "cell_type": "code",
      "execution_count": null,
      "metadata": {
        "colab": {
          "base_uri": "https://localhost:8080/",
          "height": 451
        },
        "id": "4__8g-6klgMI",
        "outputId": "37945507-e220-4d8e-b26c-cfb59acf1bbd"
      },
      "outputs": [
        {
          "data": {
            "image/png": "[encoded data removed]",
            "text/plain": [
              "<Figure size 720x432 with 1 Axes>"
            ]
          },
          "metadata": {},
          "output_type": "display_data"
        }
      ],
      "source": [
        "\t\t\t\n",
        "# Calculate trip counts per hour on weekdays and weekends\n",
        "bd = bike_data.loc[:, ['ride_duration', 'started_at']] # Keep only 'starttime' and 'tripduration' variables\n",
        "# Index dataframe by 'datetime64' data in 'starttime' variable\n",
        "bd.index = bd['started_at']\n",
        "weekdays = bd[bd.index.weekday < 5]\n",
        "weekends = bd[bd.index.weekday > 4]\n",
        "weekdays_countsPerHr = weekdays.groupby(weekdays.index.hour).size()\n",
        "weekends_countsPerHr = weekends.groupby(weekends.index.hour).size()\n",
        "# Plot counts / hour on weekdays and weekends\n",
        "#plt.rcParams.update({'font.size': 18, 'legend.fontsize': 15})\n",
        "weekdays_countsPerHr.plot(kind = 'area', stacked = False, figsize = (10, 6), color = 'mediumturquoise',\n",
        "                          linewidth = 2, label='Weekdays')\n",
        "\n",
        "weekends_countsPerHr.plot(kind = 'area', stacked = False, color = 'steelblue',\n",
        "                          linewidth = 2, label='Weekends')\n",
        "plt.rcParams['figure.figsize'] = 15,10\n",
        "plt.tick_params(axis = 'both', which = 'major', labelsize = 18)\n",
        "plt.title('Number of trips / hour\\n')\n",
        "plt.xlabel('Time of day (hr)')\n",
        "plt.ylabel('Number of trips')\n",
        "plt.legend(loc='upper left', frameon = False)\n",
        "plt.savefig('tripsbyhour.pdf')\n",
        "\t  \t\t"
      ]
    },
    {
      "cell_type": "code",
      "execution_count": null,
      "metadata": {
        "id": "R_SUmCUulgPh"
      },
      "outputs": [],
      "source": []
    },
    {
      "cell_type": "code",
      "execution_count": null,
      "metadata": {
        "id": "SQuwXX58lgSi"
      },
      "outputs": [],
      "source": []
    }
  ],
  "metadata": {
    "colab": {
      "provenance": []
    },
    "kernelspec": {
      "display_name": "Python 3 (ipykernel)",
      "language": "python",
      "name": "python3"
    },
    "language_info": {
      "codemirror_mode": {
        "name": "ipython",
        "version": 3
      },
      "file_extension": ".py",
      "mimetype": "text/x-python",
      "name": "python",
      "nbconvert_exporter": "python",
      "pygments_lexer": "ipython3",
      "version": "3.10.7"
    }
  },
  "nbformat": 4,
  "nbformat_minor": 0
}